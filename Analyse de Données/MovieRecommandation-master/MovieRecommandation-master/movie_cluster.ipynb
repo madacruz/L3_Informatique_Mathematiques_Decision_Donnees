{
 "cells": [
  {
   "cell_type": "code",
   "execution_count": 1,
   "metadata": {},
   "outputs": [],
   "source": [
    "import numpy as np\n",
    "import pandas as pd\n",
    "import matplotlib.pyplot as plt\n",
    "import math\n",
    "import re"
   ]
  },
  {
   "cell_type": "code",
   "execution_count": 2,
   "metadata": {},
   "outputs": [],
   "source": [
    "def filter_correct_id(word): # MEILLEURE VERSION ICI\n",
    "    if not isinstance(word, str) or re.fullmatch(r'[0-9]+', word):\n",
    "        return word\n",
    "    return \"wrong_id\""
   ]
  },
  {
   "cell_type": "code",
   "execution_count": 42,
   "metadata": {},
   "outputs": [],
   "source": [
    "movies = pd.read_csv(\"movies_metadata.csv\")\n",
    "ratings = pd.read_csv(\"ratings_small.csv\")"
   ]
  },
  {
   "cell_type": "code",
   "execution_count": 43,
   "metadata": {},
   "outputs": [],
   "source": [
    "movies = movies[~movies.id.duplicated()]\n",
    "movies.id = movies.id.apply(filter_correct_id)\n",
    "movies = movies[movies.id != \"wrong_id\"]\n",
    "movies.id = movies.id.astype('int64')\n",
    "movies.budget = movies.budget.astype('int64')"
   ]
  },
  {
   "cell_type": "code",
   "execution_count": 44,
   "metadata": {},
   "outputs": [],
   "source": [
    "movies = movies.rename(columns={'id' : 'movieId'})\n",
    "ratings = ratings.movieId.drop_duplicates()\n",
    "movies = movies.merge(ratings, how='inner')"
   ]
  },
  {
   "cell_type": "markdown",
   "metadata": {},
   "source": [
    "On sélectionne les attributs de films qui semblent pertinents pour différencier les films sur leur contenu.\n",
    "Ces choix sont arbitraires et on pourra être amenés à réfléchir dessus et à les modifier."
   ]
  },
  {
   "cell_type": "code",
   "execution_count": 46,
   "metadata": {},
   "outputs": [
    {
     "data": {
      "text/plain": [
       "Index(['adult', 'belongs_to_collection', 'budget', 'genres', 'homepage',\n",
       "       'movieId', 'imdb_id', 'original_language', 'original_title', 'overview',\n",
       "       'popularity', 'poster_path', 'production_companies',\n",
       "       'production_countries', 'release_date', 'revenue', 'runtime',\n",
       "       'spoken_languages', 'status', 'tagline', 'title', 'video',\n",
       "       'vote_average', 'vote_count'],\n",
       "      dtype='object')"
      ]
     },
     "execution_count": 46,
     "metadata": {},
     "output_type": "execute_result"
    }
   ],
   "source": [
    "movies.columns"
   ]
  },
  {
   "cell_type": "code",
   "execution_count": 47,
   "metadata": {},
   "outputs": [],
   "source": [
    "cluster_features = movies[['genres', 'release_date', 'production_countries', 'original_language', 'runtime', 'budget']]\n",
    "cluster_features = cluster_features.dropna()"
   ]
  },
  {
   "cell_type": "code",
   "execution_count": 50,
   "metadata": {},
   "outputs": [
    {
     "data": {
      "text/html": [
       "<div>\n",
       "<style scoped>\n",
       "    .dataframe tbody tr th:only-of-type {\n",
       "        vertical-align: middle;\n",
       "    }\n",
       "\n",
       "    .dataframe tbody tr th {\n",
       "        vertical-align: top;\n",
       "    }\n",
       "\n",
       "    .dataframe thead th {\n",
       "        text-align: right;\n",
       "    }\n",
       "</style>\n",
       "<table border=\"1\" class=\"dataframe\">\n",
       "  <thead>\n",
       "    <tr style=\"text-align: right;\">\n",
       "      <th></th>\n",
       "      <th>genres</th>\n",
       "      <th>release_date</th>\n",
       "      <th>production_countries</th>\n",
       "      <th>original_language</th>\n",
       "      <th>runtime</th>\n",
       "      <th>budget</th>\n",
       "    </tr>\n",
       "  </thead>\n",
       "  <tbody>\n",
       "    <tr>\n",
       "      <td>0</td>\n",
       "      <td>[{'id': 28, 'name': 'Action'}, {'id': 80, 'nam...</td>\n",
       "      <td>1995-12-15</td>\n",
       "      <td>[{'iso_3166_1': 'US', 'name': 'United States o...</td>\n",
       "      <td>en</td>\n",
       "      <td>170.0</td>\n",
       "      <td>60000000</td>\n",
       "    </tr>\n",
       "    <tr>\n",
       "      <td>1</td>\n",
       "      <td>[{'id': 12, 'name': 'Adventure'}, {'id': 28, '...</td>\n",
       "      <td>1995-11-16</td>\n",
       "      <td>[{'iso_3166_1': 'GB', 'name': 'United Kingdom'...</td>\n",
       "      <td>en</td>\n",
       "      <td>130.0</td>\n",
       "      <td>58000000</td>\n",
       "    </tr>\n",
       "    <tr>\n",
       "      <td>2</td>\n",
       "      <td>[{'id': 28, 'name': 'Action'}, {'id': 12, 'nam...</td>\n",
       "      <td>1995-12-22</td>\n",
       "      <td>[{'iso_3166_1': 'FR', 'name': 'France'}, {'iso...</td>\n",
       "      <td>en</td>\n",
       "      <td>119.0</td>\n",
       "      <td>98000000</td>\n",
       "    </tr>\n",
       "    <tr>\n",
       "      <td>3</td>\n",
       "      <td>[{'id': 18, 'name': 'Drama'}, {'id': 80, 'name...</td>\n",
       "      <td>1995-11-22</td>\n",
       "      <td>[{'iso_3166_1': 'FR', 'name': 'France'}, {'iso...</td>\n",
       "      <td>en</td>\n",
       "      <td>178.0</td>\n",
       "      <td>52000000</td>\n",
       "    </tr>\n",
       "    <tr>\n",
       "      <td>4</td>\n",
       "      <td>[{'id': 18, 'name': 'Drama'}, {'id': 10749, 'n...</td>\n",
       "      <td>1995-12-13</td>\n",
       "      <td>[{'iso_3166_1': 'GB', 'name': 'United Kingdom'...</td>\n",
       "      <td>en</td>\n",
       "      <td>136.0</td>\n",
       "      <td>16500000</td>\n",
       "    </tr>\n",
       "  </tbody>\n",
       "</table>\n",
       "</div>"
      ],
      "text/plain": [
       "                                              genres release_date  \\\n",
       "0  [{'id': 28, 'name': 'Action'}, {'id': 80, 'nam...   1995-12-15   \n",
       "1  [{'id': 12, 'name': 'Adventure'}, {'id': 28, '...   1995-11-16   \n",
       "2  [{'id': 28, 'name': 'Action'}, {'id': 12, 'nam...   1995-12-22   \n",
       "3  [{'id': 18, 'name': 'Drama'}, {'id': 80, 'name...   1995-11-22   \n",
       "4  [{'id': 18, 'name': 'Drama'}, {'id': 10749, 'n...   1995-12-13   \n",
       "\n",
       "                                production_countries original_language  \\\n",
       "0  [{'iso_3166_1': 'US', 'name': 'United States o...                en   \n",
       "1  [{'iso_3166_1': 'GB', 'name': 'United Kingdom'...                en   \n",
       "2  [{'iso_3166_1': 'FR', 'name': 'France'}, {'iso...                en   \n",
       "3  [{'iso_3166_1': 'FR', 'name': 'France'}, {'iso...                en   \n",
       "4  [{'iso_3166_1': 'GB', 'name': 'United Kingdom'...                en   \n",
       "\n",
       "   runtime    budget  \n",
       "0    170.0  60000000  \n",
       "1    130.0  58000000  \n",
       "2    119.0  98000000  \n",
       "3    178.0  52000000  \n",
       "4    136.0  16500000  "
      ]
     },
     "execution_count": 50,
     "metadata": {},
     "output_type": "execute_result"
    }
   ],
   "source": [
    "cluster_features.head()"
   ]
  },
  {
   "cell_type": "markdown",
   "metadata": {},
   "source": [
    "On modifie les attributs afin de pouvoir facilement comparer les films"
   ]
  },
  {
   "cell_type": "code",
   "execution_count": 51,
   "metadata": {},
   "outputs": [],
   "source": [
    "def vectorize_genres(genres):\n",
    "    if isinstance(genres, str):\n",
    "        pattern = re.compile(r\"'id': [0-9]*\")\n",
    "        return np.array([int(w[6:]) for w in pattern.findall(genres)])\n",
    "    return genres"
   ]
  },
  {
   "cell_type": "code",
   "execution_count": 52,
   "metadata": {},
   "outputs": [],
   "source": [
    "cluster_features.genres = cluster_features.genres.apply(vectorize_genres)"
   ]
  },
  {
   "cell_type": "code",
   "execution_count": 53,
   "metadata": {},
   "outputs": [
    {
     "data": {
      "text/html": [
       "<div>\n",
       "<style scoped>\n",
       "    .dataframe tbody tr th:only-of-type {\n",
       "        vertical-align: middle;\n",
       "    }\n",
       "\n",
       "    .dataframe tbody tr th {\n",
       "        vertical-align: top;\n",
       "    }\n",
       "\n",
       "    .dataframe thead th {\n",
       "        text-align: right;\n",
       "    }\n",
       "</style>\n",
       "<table border=\"1\" class=\"dataframe\">\n",
       "  <thead>\n",
       "    <tr style=\"text-align: right;\">\n",
       "      <th></th>\n",
       "      <th>genres</th>\n",
       "      <th>release_date</th>\n",
       "      <th>production_countries</th>\n",
       "      <th>original_language</th>\n",
       "      <th>runtime</th>\n",
       "      <th>budget</th>\n",
       "    </tr>\n",
       "  </thead>\n",
       "  <tbody>\n",
       "    <tr>\n",
       "      <td>0</td>\n",
       "      <td>[28, 80, 18, 53]</td>\n",
       "      <td>1995-12-15</td>\n",
       "      <td>[{'iso_3166_1': 'US', 'name': 'United States o...</td>\n",
       "      <td>en</td>\n",
       "      <td>170.0</td>\n",
       "      <td>60000000</td>\n",
       "    </tr>\n",
       "    <tr>\n",
       "      <td>1</td>\n",
       "      <td>[12, 28, 53]</td>\n",
       "      <td>1995-11-16</td>\n",
       "      <td>[{'iso_3166_1': 'GB', 'name': 'United Kingdom'...</td>\n",
       "      <td>en</td>\n",
       "      <td>130.0</td>\n",
       "      <td>58000000</td>\n",
       "    </tr>\n",
       "    <tr>\n",
       "      <td>2</td>\n",
       "      <td>[28, 12]</td>\n",
       "      <td>1995-12-22</td>\n",
       "      <td>[{'iso_3166_1': 'FR', 'name': 'France'}, {'iso...</td>\n",
       "      <td>en</td>\n",
       "      <td>119.0</td>\n",
       "      <td>98000000</td>\n",
       "    </tr>\n",
       "    <tr>\n",
       "      <td>3</td>\n",
       "      <td>[18, 80]</td>\n",
       "      <td>1995-11-22</td>\n",
       "      <td>[{'iso_3166_1': 'FR', 'name': 'France'}, {'iso...</td>\n",
       "      <td>en</td>\n",
       "      <td>178.0</td>\n",
       "      <td>52000000</td>\n",
       "    </tr>\n",
       "    <tr>\n",
       "      <td>4</td>\n",
       "      <td>[18, 10749]</td>\n",
       "      <td>1995-12-13</td>\n",
       "      <td>[{'iso_3166_1': 'GB', 'name': 'United Kingdom'...</td>\n",
       "      <td>en</td>\n",
       "      <td>136.0</td>\n",
       "      <td>16500000</td>\n",
       "    </tr>\n",
       "  </tbody>\n",
       "</table>\n",
       "</div>"
      ],
      "text/plain": [
       "             genres release_date  \\\n",
       "0  [28, 80, 18, 53]   1995-12-15   \n",
       "1      [12, 28, 53]   1995-11-16   \n",
       "2          [28, 12]   1995-12-22   \n",
       "3          [18, 80]   1995-11-22   \n",
       "4       [18, 10749]   1995-12-13   \n",
       "\n",
       "                                production_countries original_language  \\\n",
       "0  [{'iso_3166_1': 'US', 'name': 'United States o...                en   \n",
       "1  [{'iso_3166_1': 'GB', 'name': 'United Kingdom'...                en   \n",
       "2  [{'iso_3166_1': 'FR', 'name': 'France'}, {'iso...                en   \n",
       "3  [{'iso_3166_1': 'FR', 'name': 'France'}, {'iso...                en   \n",
       "4  [{'iso_3166_1': 'GB', 'name': 'United Kingdom'...                en   \n",
       "\n",
       "   runtime    budget  \n",
       "0    170.0  60000000  \n",
       "1    130.0  58000000  \n",
       "2    119.0  98000000  \n",
       "3    178.0  52000000  \n",
       "4    136.0  16500000  "
      ]
     },
     "execution_count": 53,
     "metadata": {},
     "output_type": "execute_result"
    }
   ],
   "source": [
    "cluster_features.head()"
   ]
  },
  {
   "cell_type": "code",
   "execution_count": 54,
   "metadata": {},
   "outputs": [],
   "source": [
    "def simplify_date(date):\n",
    "    if isinstance(date, str):\n",
    "        return int(date[:4])\n",
    "    return date"
   ]
  },
  {
   "cell_type": "code",
   "execution_count": 55,
   "metadata": {},
   "outputs": [],
   "source": [
    "cluster_features.release_date = cluster_features.release_date.apply(simplify_date)"
   ]
  },
  {
   "cell_type": "code",
   "execution_count": 56,
   "metadata": {},
   "outputs": [
    {
     "data": {
      "text/html": [
       "<div>\n",
       "<style scoped>\n",
       "    .dataframe tbody tr th:only-of-type {\n",
       "        vertical-align: middle;\n",
       "    }\n",
       "\n",
       "    .dataframe tbody tr th {\n",
       "        vertical-align: top;\n",
       "    }\n",
       "\n",
       "    .dataframe thead th {\n",
       "        text-align: right;\n",
       "    }\n",
       "</style>\n",
       "<table border=\"1\" class=\"dataframe\">\n",
       "  <thead>\n",
       "    <tr style=\"text-align: right;\">\n",
       "      <th></th>\n",
       "      <th>genres</th>\n",
       "      <th>release_date</th>\n",
       "      <th>production_countries</th>\n",
       "      <th>original_language</th>\n",
       "      <th>runtime</th>\n",
       "      <th>budget</th>\n",
       "    </tr>\n",
       "  </thead>\n",
       "  <tbody>\n",
       "    <tr>\n",
       "      <td>0</td>\n",
       "      <td>[28, 80, 18, 53]</td>\n",
       "      <td>1995</td>\n",
       "      <td>[{'iso_3166_1': 'US', 'name': 'United States o...</td>\n",
       "      <td>en</td>\n",
       "      <td>170.0</td>\n",
       "      <td>60000000</td>\n",
       "    </tr>\n",
       "    <tr>\n",
       "      <td>1</td>\n",
       "      <td>[12, 28, 53]</td>\n",
       "      <td>1995</td>\n",
       "      <td>[{'iso_3166_1': 'GB', 'name': 'United Kingdom'...</td>\n",
       "      <td>en</td>\n",
       "      <td>130.0</td>\n",
       "      <td>58000000</td>\n",
       "    </tr>\n",
       "    <tr>\n",
       "      <td>2</td>\n",
       "      <td>[28, 12]</td>\n",
       "      <td>1995</td>\n",
       "      <td>[{'iso_3166_1': 'FR', 'name': 'France'}, {'iso...</td>\n",
       "      <td>en</td>\n",
       "      <td>119.0</td>\n",
       "      <td>98000000</td>\n",
       "    </tr>\n",
       "    <tr>\n",
       "      <td>3</td>\n",
       "      <td>[18, 80]</td>\n",
       "      <td>1995</td>\n",
       "      <td>[{'iso_3166_1': 'FR', 'name': 'France'}, {'iso...</td>\n",
       "      <td>en</td>\n",
       "      <td>178.0</td>\n",
       "      <td>52000000</td>\n",
       "    </tr>\n",
       "    <tr>\n",
       "      <td>4</td>\n",
       "      <td>[18, 10749]</td>\n",
       "      <td>1995</td>\n",
       "      <td>[{'iso_3166_1': 'GB', 'name': 'United Kingdom'...</td>\n",
       "      <td>en</td>\n",
       "      <td>136.0</td>\n",
       "      <td>16500000</td>\n",
       "    </tr>\n",
       "  </tbody>\n",
       "</table>\n",
       "</div>"
      ],
      "text/plain": [
       "             genres  release_date  \\\n",
       "0  [28, 80, 18, 53]          1995   \n",
       "1      [12, 28, 53]          1995   \n",
       "2          [28, 12]          1995   \n",
       "3          [18, 80]          1995   \n",
       "4       [18, 10749]          1995   \n",
       "\n",
       "                                production_countries original_language  \\\n",
       "0  [{'iso_3166_1': 'US', 'name': 'United States o...                en   \n",
       "1  [{'iso_3166_1': 'GB', 'name': 'United Kingdom'...                en   \n",
       "2  [{'iso_3166_1': 'FR', 'name': 'France'}, {'iso...                en   \n",
       "3  [{'iso_3166_1': 'FR', 'name': 'France'}, {'iso...                en   \n",
       "4  [{'iso_3166_1': 'GB', 'name': 'United Kingdom'...                en   \n",
       "\n",
       "   runtime    budget  \n",
       "0    170.0  60000000  \n",
       "1    130.0  58000000  \n",
       "2    119.0  98000000  \n",
       "3    178.0  52000000  \n",
       "4    136.0  16500000  "
      ]
     },
     "execution_count": 56,
     "metadata": {},
     "output_type": "execute_result"
    }
   ],
   "source": [
    "cluster_features.head()"
   ]
  },
  {
   "cell_type": "code",
   "execution_count": 57,
   "metadata": {},
   "outputs": [],
   "source": [
    "def simplify_countries(countries):\n",
    "    if isinstance(countries, str):\n",
    "        pattern = re.compile(r\"'iso_3166_1': ...\")\n",
    "        return [w[15:] for w in pattern.findall(countries)]\n",
    "    return genres"
   ]
  },
  {
   "cell_type": "code",
   "execution_count": 58,
   "metadata": {},
   "outputs": [],
   "source": [
    "cluster_features.production_countries = cluster_features.production_countries.apply(simplify_countries)"
   ]
  },
  {
   "cell_type": "code",
   "execution_count": 134,
   "metadata": {},
   "outputs": [
    {
     "data": {
      "text/html": [
       "<div>\n",
       "<style scoped>\n",
       "    .dataframe tbody tr th:only-of-type {\n",
       "        vertical-align: middle;\n",
       "    }\n",
       "\n",
       "    .dataframe tbody tr th {\n",
       "        vertical-align: top;\n",
       "    }\n",
       "\n",
       "    .dataframe thead th {\n",
       "        text-align: right;\n",
       "    }\n",
       "</style>\n",
       "<table border=\"1\" class=\"dataframe\">\n",
       "  <thead>\n",
       "    <tr style=\"text-align: right;\">\n",
       "      <th></th>\n",
       "      <th>genres</th>\n",
       "      <th>release_date</th>\n",
       "      <th>production_countries</th>\n",
       "      <th>original_language</th>\n",
       "      <th>runtime</th>\n",
       "      <th>budget</th>\n",
       "    </tr>\n",
       "  </thead>\n",
       "  <tbody>\n",
       "    <tr>\n",
       "      <td>2825</td>\n",
       "      <td>[18]</td>\n",
       "      <td>2009</td>\n",
       "      <td>[ID]</td>\n",
       "      <td>en</td>\n",
       "      <td>121.0</td>\n",
       "      <td>0</td>\n",
       "    </tr>\n",
       "    <tr>\n",
       "      <td>2826</td>\n",
       "      <td>[27, 878]</td>\n",
       "      <td>1967</td>\n",
       "      <td>[GB]</td>\n",
       "      <td>en</td>\n",
       "      <td>92.0</td>\n",
       "      <td>0</td>\n",
       "    </tr>\n",
       "    <tr>\n",
       "      <td>2827</td>\n",
       "      <td>[10749, 18]</td>\n",
       "      <td>2007</td>\n",
       "      <td>[RU]</td>\n",
       "      <td>ru</td>\n",
       "      <td>97.0</td>\n",
       "      <td>0</td>\n",
       "    </tr>\n",
       "    <tr>\n",
       "      <td>2828</td>\n",
       "      <td>[35, 10749]</td>\n",
       "      <td>2012</td>\n",
       "      <td>[RU]</td>\n",
       "      <td>ru</td>\n",
       "      <td>91.0</td>\n",
       "      <td>0</td>\n",
       "    </tr>\n",
       "    <tr>\n",
       "      <td>2829</td>\n",
       "      <td>[14, 28, 53]</td>\n",
       "      <td>1900</td>\n",
       "      <td>[FR]</td>\n",
       "      <td>fr</td>\n",
       "      <td>1.0</td>\n",
       "      <td>0</td>\n",
       "    </tr>\n",
       "  </tbody>\n",
       "</table>\n",
       "</div>"
      ],
      "text/plain": [
       "            genres  release_date production_countries original_language  \\\n",
       "2825          [18]          2009                 [ID]                en   \n",
       "2826     [27, 878]          1967                 [GB]                en   \n",
       "2827   [10749, 18]          2007                 [RU]                ru   \n",
       "2828   [35, 10749]          2012                 [RU]                ru   \n",
       "2829  [14, 28, 53]          1900                 [FR]                fr   \n",
       "\n",
       "      runtime  budget  \n",
       "2825    121.0       0  \n",
       "2826     92.0       0  \n",
       "2827     97.0       0  \n",
       "2828     91.0       0  \n",
       "2829      1.0       0  "
      ]
     },
     "execution_count": 134,
     "metadata": {},
     "output_type": "execute_result"
    }
   ],
   "source": [
    "cluster_features.tail()"
   ]
  },
  {
   "cell_type": "markdown",
   "metadata": {},
   "source": [
    "On va maintenant définir une distance sur les films"
   ]
  },
  {
   "cell_type": "code",
   "execution_count": 60,
   "metadata": {},
   "outputs": [],
   "source": [
    "MAX_YEAR = max(cluster_features.release_date) - min(cluster_features.release_date)"
   ]
  },
  {
   "cell_type": "code",
   "execution_count": 61,
   "metadata": {},
   "outputs": [
    {
     "data": {
      "text/plain": [
       "count    2826.000000\n",
       "mean      105.440906\n",
       "std        27.537345\n",
       "min         0.000000\n",
       "25%        92.000000\n",
       "50%       103.000000\n",
       "75%       118.000000\n",
       "max       320.000000\n",
       "Name: runtime, dtype: float64"
      ]
     },
     "execution_count": 61,
     "metadata": {},
     "output_type": "execute_result"
    }
   ],
   "source": [
    "cluster_features.runtime.describe()"
   ]
  },
  {
   "cell_type": "code",
   "execution_count": 62,
   "metadata": {},
   "outputs": [
    {
     "data": {
      "text/plain": [
       "count    2.826000e+03\n",
       "mean     1.396692e+07\n",
       "std      3.119462e+07\n",
       "min      0.000000e+00\n",
       "25%      0.000000e+00\n",
       "50%      0.000000e+00\n",
       "75%      1.300000e+07\n",
       "max      3.800000e+08\n",
       "Name: budget, dtype: float64"
      ]
     },
     "execution_count": 62,
     "metadata": {},
     "output_type": "execute_result"
    }
   ],
   "source": [
    "cluster_features.budget.describe()"
   ]
  },
  {
   "cell_type": "code",
   "execution_count": 63,
   "metadata": {},
   "outputs": [],
   "source": [
    "def similarity_vect(m1, m2):\n",
    "    simi_vect = m1.copy()\n",
    "    g1, g2 = m1.genres, m2.genres\n",
    "    if list(g1) and list(g2):\n",
    "        g3 = np.append(g1, g2)\n",
    "        simi_vect.genres = 2 * len(np.unique(g3)) / len(g3) - 1 # CHANGER PEUT ETRE\n",
    "    else:\n",
    "        simi_vect.genres = 1\n",
    "    \n",
    "    simi_vect.release_date = abs(m1.release_date - m2.release_date) / MAX_YEAR\n",
    "    \n",
    "    p1, p2 = m1.production_countries, m2.production_countries\n",
    "    if list(p1) and list(p2):\n",
    "        p3 = []\n",
    "        p3.extend(p1)\n",
    "        p3.extend(p2)\n",
    "        simi_vect.production_countries = 2 * len(np.unique(p3)) / len(p3) - 1 # Changer aussi peut etre\n",
    "    else:\n",
    "        simi_vect.production_countries = 1\n",
    "    \n",
    "    simi_vect.original_language = int(not m1.original_language == m2.original_language)\n",
    "    \n",
    "    r1, r2 = m1.runtime, m2.runtime\n",
    "    if r1 == 0 or r2 == 0:\n",
    "        simi_vect.runtime = 1 # Changer peut etre\n",
    "    else:\n",
    "        simi_vect.runtime = min(1, abs(r1 - r2) / 55) # Choix 2 * std\n",
    "    \n",
    "    b1, b2 = m1.budget, m2.budget\n",
    "    if b1 == 0 or b2 == 0:\n",
    "        simi_vect.budget = 1 # Changer peut etre\n",
    "    else:\n",
    "        simi_vect.budget = min(1, abs(b1 - b2) / (3 * 1.1e+07)) # La aussi (3 * ecart type ~ arbitraire)\n",
    "    \n",
    "    return simi_vect"
   ]
  },
  {
   "cell_type": "code",
   "execution_count": 64,
   "metadata": {},
   "outputs": [],
   "source": [
    "def weight_vect(simi_vect, w_gen=3, w_rel=2, w_pro=1, w_ori=1, w_run=1, w_bud=1):\n",
    "    weighted_vect = simi_vect.copy()\n",
    "    weighted_vect.genres *= w_gen\n",
    "    weighted_vect.release_date *= w_rel\n",
    "    weighted_vect.production_countries *= w_pro\n",
    "    weighted_vect.original_language *= w_ori\n",
    "    weighted_vect.runtime *= w_run\n",
    "    weighted_vect.budget *= w_bud\n",
    "    \n",
    "    return weighted_vect"
   ]
  },
  {
   "cell_type": "code",
   "execution_count": 65,
   "metadata": {},
   "outputs": [],
   "source": [
    "def movie_distance(m1, m2, distance=lambda x: np.linalg.norm(x, ord=1)):\n",
    "    simi_vect = similarity_vect(m1, m2)\n",
    "    weighted_vect = weight_vect(simi_vect)\n",
    "    return distance(weighted_vect)"
   ]
  },
  {
   "cell_type": "code",
   "execution_count": 84,
   "metadata": {},
   "outputs": [],
   "source": [
    "def compute_dist_matrix(clu_fea):\n",
    "    dim = len(clu_fea)\n",
    "    dist_mat = 100 * np.eye((dim))\n",
    "    for i in range(1, dim):\n",
    "        for j in range(0, i):\n",
    "            dist_mat[i, j] = movie_distance(clu_fea.iloc[i], clu_fea.iloc[j])\n",
    "    return dist_mat + dist_mat.T"
   ]
  },
  {
   "cell_type": "code",
   "execution_count": 76,
   "metadata": {},
   "outputs": [],
   "source": [
    "#m = compute_dist_matrix(cluster_features) # environ 1 heure"
   ]
  },
  {
   "cell_type": "code",
   "execution_count": 291,
   "metadata": {},
   "outputs": [],
   "source": [
    "def clusterize(dist_mat, clu_fea):\n",
    "    total_nb_movies = dist_mat.shape[0]\n",
    "    for cpt in range(total_nb_movies - 1):\n",
    "        index1 = np.argmin(dist_mat.min(0))\n",
    "        index2 = np.argmin(dist_mat[index1])\n",
    "        size_mat = dist_mat.shape[0]\n",
    "        new_dist_values = np.zeros(size_mat)\n",
    "        for i in range(size_mat):\n",
    "            new_dist_values[i] = min(movie_distance(clu_fea.iloc[i], clu_fea.iloc[index1]),\n",
    "                                     movie_distance(clu_fea.iloc[i], clu_fea.iloc[index2])) # min --> Choix modifiable\n",
    "        dist_mat[index1] = new_dist_values\n",
    "        dist_mat[:, index1] = new_dist_values\n",
    "        dist_mat[index1, index1] = 200\n",
    "        dist_mat = np.delete(dist_mat, index2, 0)\n",
    "        dist_mat = np.delete(dist_mat, index2, 1)"
   ]
  },
  {
   "cell_type": "code",
   "execution_count": 287,
   "metadata": {},
   "outputs": [
    {
     "data": {
      "text/html": [
       "<div>\n",
       "<style scoped>\n",
       "    .dataframe tbody tr th:only-of-type {\n",
       "        vertical-align: middle;\n",
       "    }\n",
       "\n",
       "    .dataframe tbody tr th {\n",
       "        vertical-align: top;\n",
       "    }\n",
       "\n",
       "    .dataframe thead th {\n",
       "        text-align: right;\n",
       "    }\n",
       "</style>\n",
       "<table border=\"1\" class=\"dataframe\">\n",
       "  <thead>\n",
       "    <tr style=\"text-align: right;\">\n",
       "      <th></th>\n",
       "      <th>genres</th>\n",
       "      <th>release_date</th>\n",
       "      <th>production_countries</th>\n",
       "      <th>original_language</th>\n",
       "      <th>runtime</th>\n",
       "      <th>budget</th>\n",
       "    </tr>\n",
       "  </thead>\n",
       "  <tbody>\n",
       "    <tr>\n",
       "      <td>0</td>\n",
       "      <td>[28, 80, 18, 53]</td>\n",
       "      <td>1995</td>\n",
       "      <td>[US]</td>\n",
       "      <td>en</td>\n",
       "      <td>170.0</td>\n",
       "      <td>60000000</td>\n",
       "    </tr>\n",
       "    <tr>\n",
       "      <td>1</td>\n",
       "      <td>[12, 28, 53]</td>\n",
       "      <td>1995</td>\n",
       "      <td>[GB, US]</td>\n",
       "      <td>en</td>\n",
       "      <td>130.0</td>\n",
       "      <td>58000000</td>\n",
       "    </tr>\n",
       "    <tr>\n",
       "      <td>2</td>\n",
       "      <td>[28, 12]</td>\n",
       "      <td>1995</td>\n",
       "      <td>[FR, DE, IT, US]</td>\n",
       "      <td>en</td>\n",
       "      <td>119.0</td>\n",
       "      <td>98000000</td>\n",
       "    </tr>\n",
       "    <tr>\n",
       "      <td>3</td>\n",
       "      <td>[18, 80]</td>\n",
       "      <td>1995</td>\n",
       "      <td>[FR, US]</td>\n",
       "      <td>en</td>\n",
       "      <td>178.0</td>\n",
       "      <td>52000000</td>\n",
       "    </tr>\n",
       "  </tbody>\n",
       "</table>\n",
       "</div>"
      ],
      "text/plain": [
       "             genres  release_date production_countries original_language  \\\n",
       "0  [28, 80, 18, 53]          1995                 [US]                en   \n",
       "1      [12, 28, 53]          1995             [GB, US]                en   \n",
       "2          [28, 12]          1995     [FR, DE, IT, US]                en   \n",
       "3          [18, 80]          1995             [FR, US]                en   \n",
       "\n",
       "   runtime    budget  \n",
       "0    170.0  60000000  \n",
       "1    130.0  58000000  \n",
       "2    119.0  98000000  \n",
       "3    178.0  52000000  "
      ]
     },
     "execution_count": 287,
     "metadata": {},
     "output_type": "execute_result"
    }
   ],
   "source": [
    "clu_test = cluster_features.iloc[:4].copy()\n",
    "dist_test = compute_dist_matrix(test)\n",
    "clu_test"
   ]
  },
  {
   "cell_type": "code",
   "execution_count": 290,
   "metadata": {},
   "outputs": [
    {
     "name": "stdout",
     "output_type": "stream",
     "text": [
      "0\n",
      "1\n",
      "2\n"
     ]
    }
   ],
   "source": [
    "clusterize(dist_test, clu_test)"
   ]
  }
 ],
 "metadata": {
  "kernelspec": {
   "display_name": "Python 3",
   "language": "python",
   "name": "python3"
  },
  "language_info": {
   "codemirror_mode": {
    "name": "ipython",
    "version": 3
   },
   "file_extension": ".py",
   "mimetype": "text/x-python",
   "name": "python",
   "nbconvert_exporter": "python",
   "pygments_lexer": "ipython3",
   "version": "3.7.4"
  }
 },
 "nbformat": 4,
 "nbformat_minor": 2
}
