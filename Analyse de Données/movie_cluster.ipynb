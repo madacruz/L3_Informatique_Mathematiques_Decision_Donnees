{
 "cells": [
  {
   "cell_type": "markdown",
   "metadata": {},
   "source": [
    "### Import des librairies et lecture des fichiers\n"
   ]
  },
  {
   "cell_type": "code",
   "execution_count": 1,
   "metadata": {},
   "outputs": [],
   "source": [
    "import numpy as np\n",
    "import pandas as pd\n",
    "import matplotlib.pyplot as plt\n",
    "import math\n",
    "import re\n",
    "import time"
   ]
  },
  {
   "cell_type": "code",
   "execution_count": 2,
   "metadata": {},
   "outputs": [
    {
     "name": "stderr",
     "output_type": "stream",
     "text": [
      "C:\\Users\\VICTOR\\Anaconda3\\lib\\site-packages\\IPython\\core\\interactiveshell.py:3058: DtypeWarning: Columns (10) have mixed types. Specify dtype option on import or set low_memory=False.\n",
      "  interactivity=interactivity, compiler=compiler, result=result)\n"
     ]
    }
   ],
   "source": [
    "movies = pd.read_csv(\"movies_metadata.csv\")\n",
    "ratings = pd.read_csv(\"ratings_small.csv\")\n",
    "keywords = pd.read_csv(\"keywords.csv\")\n",
    "credits = pd.read_csv(\"tmdb_5000_credits.csv\")\n",
    "link = pd.read_csv(\"links_small.csv\")"
   ]
  },
  {
   "cell_type": "code",
   "execution_count": 3,
   "metadata": {},
   "outputs": [
    {
     "data": {
      "text/html": [
       "<div>\n",
       "<style scoped>\n",
       "    .dataframe tbody tr th:only-of-type {\n",
       "        vertical-align: middle;\n",
       "    }\n",
       "\n",
       "    .dataframe tbody tr th {\n",
       "        vertical-align: top;\n",
       "    }\n",
       "\n",
       "    .dataframe thead th {\n",
       "        text-align: right;\n",
       "    }\n",
       "</style>\n",
       "<table border=\"1\" class=\"dataframe\">\n",
       "  <thead>\n",
       "    <tr style=\"text-align: right;\">\n",
       "      <th></th>\n",
       "      <th>adult</th>\n",
       "      <th>belongs_to_collection</th>\n",
       "      <th>budget</th>\n",
       "      <th>genres</th>\n",
       "      <th>homepage</th>\n",
       "      <th>id</th>\n",
       "      <th>imdb_id</th>\n",
       "      <th>original_language</th>\n",
       "      <th>original_title</th>\n",
       "      <th>overview</th>\n",
       "      <th>...</th>\n",
       "      <th>release_date</th>\n",
       "      <th>revenue</th>\n",
       "      <th>runtime</th>\n",
       "      <th>spoken_languages</th>\n",
       "      <th>status</th>\n",
       "      <th>tagline</th>\n",
       "      <th>title</th>\n",
       "      <th>video</th>\n",
       "      <th>vote_average</th>\n",
       "      <th>vote_count</th>\n",
       "    </tr>\n",
       "  </thead>\n",
       "  <tbody>\n",
       "    <tr>\n",
       "      <td>0</td>\n",
       "      <td>False</td>\n",
       "      <td>{'id': 10194, 'name': 'Toy Story Collection', ...</td>\n",
       "      <td>30000000</td>\n",
       "      <td>[{'id': 16, 'name': 'Animation'}, {'id': 35, '...</td>\n",
       "      <td>http://toystory.disney.com/toy-story</td>\n",
       "      <td>862</td>\n",
       "      <td>tt0114709</td>\n",
       "      <td>en</td>\n",
       "      <td>Toy Story</td>\n",
       "      <td>Led by Woody, Andy's toys live happily in his ...</td>\n",
       "      <td>...</td>\n",
       "      <td>1995-10-30</td>\n",
       "      <td>373554033.0</td>\n",
       "      <td>81.0</td>\n",
       "      <td>[{'iso_639_1': 'en', 'name': 'English'}]</td>\n",
       "      <td>Released</td>\n",
       "      <td>NaN</td>\n",
       "      <td>Toy Story</td>\n",
       "      <td>False</td>\n",
       "      <td>7.7</td>\n",
       "      <td>5415.0</td>\n",
       "    </tr>\n",
       "    <tr>\n",
       "      <td>1</td>\n",
       "      <td>False</td>\n",
       "      <td>NaN</td>\n",
       "      <td>65000000</td>\n",
       "      <td>[{'id': 12, 'name': 'Adventure'}, {'id': 14, '...</td>\n",
       "      <td>NaN</td>\n",
       "      <td>8844</td>\n",
       "      <td>tt0113497</td>\n",
       "      <td>en</td>\n",
       "      <td>Jumanji</td>\n",
       "      <td>When siblings Judy and Peter discover an encha...</td>\n",
       "      <td>...</td>\n",
       "      <td>1995-12-15</td>\n",
       "      <td>262797249.0</td>\n",
       "      <td>104.0</td>\n",
       "      <td>[{'iso_639_1': 'en', 'name': 'English'}, {'iso...</td>\n",
       "      <td>Released</td>\n",
       "      <td>Roll the dice and unleash the excitement!</td>\n",
       "      <td>Jumanji</td>\n",
       "      <td>False</td>\n",
       "      <td>6.9</td>\n",
       "      <td>2413.0</td>\n",
       "    </tr>\n",
       "    <tr>\n",
       "      <td>2</td>\n",
       "      <td>False</td>\n",
       "      <td>{'id': 119050, 'name': 'Grumpy Old Men Collect...</td>\n",
       "      <td>0</td>\n",
       "      <td>[{'id': 10749, 'name': 'Romance'}, {'id': 35, ...</td>\n",
       "      <td>NaN</td>\n",
       "      <td>15602</td>\n",
       "      <td>tt0113228</td>\n",
       "      <td>en</td>\n",
       "      <td>Grumpier Old Men</td>\n",
       "      <td>A family wedding reignites the ancient feud be...</td>\n",
       "      <td>...</td>\n",
       "      <td>1995-12-22</td>\n",
       "      <td>0.0</td>\n",
       "      <td>101.0</td>\n",
       "      <td>[{'iso_639_1': 'en', 'name': 'English'}]</td>\n",
       "      <td>Released</td>\n",
       "      <td>Still Yelling. Still Fighting. Still Ready for...</td>\n",
       "      <td>Grumpier Old Men</td>\n",
       "      <td>False</td>\n",
       "      <td>6.5</td>\n",
       "      <td>92.0</td>\n",
       "    </tr>\n",
       "    <tr>\n",
       "      <td>3</td>\n",
       "      <td>False</td>\n",
       "      <td>NaN</td>\n",
       "      <td>16000000</td>\n",
       "      <td>[{'id': 35, 'name': 'Comedy'}, {'id': 18, 'nam...</td>\n",
       "      <td>NaN</td>\n",
       "      <td>31357</td>\n",
       "      <td>tt0114885</td>\n",
       "      <td>en</td>\n",
       "      <td>Waiting to Exhale</td>\n",
       "      <td>Cheated on, mistreated and stepped on, the wom...</td>\n",
       "      <td>...</td>\n",
       "      <td>1995-12-22</td>\n",
       "      <td>81452156.0</td>\n",
       "      <td>127.0</td>\n",
       "      <td>[{'iso_639_1': 'en', 'name': 'English'}]</td>\n",
       "      <td>Released</td>\n",
       "      <td>Friends are the people who let you be yourself...</td>\n",
       "      <td>Waiting to Exhale</td>\n",
       "      <td>False</td>\n",
       "      <td>6.1</td>\n",
       "      <td>34.0</td>\n",
       "    </tr>\n",
       "    <tr>\n",
       "      <td>4</td>\n",
       "      <td>False</td>\n",
       "      <td>{'id': 96871, 'name': 'Father of the Bride Col...</td>\n",
       "      <td>0</td>\n",
       "      <td>[{'id': 35, 'name': 'Comedy'}]</td>\n",
       "      <td>NaN</td>\n",
       "      <td>11862</td>\n",
       "      <td>tt0113041</td>\n",
       "      <td>en</td>\n",
       "      <td>Father of the Bride Part II</td>\n",
       "      <td>Just when George Banks has recovered from his ...</td>\n",
       "      <td>...</td>\n",
       "      <td>1995-02-10</td>\n",
       "      <td>76578911.0</td>\n",
       "      <td>106.0</td>\n",
       "      <td>[{'iso_639_1': 'en', 'name': 'English'}]</td>\n",
       "      <td>Released</td>\n",
       "      <td>Just When His World Is Back To Normal... He's ...</td>\n",
       "      <td>Father of the Bride Part II</td>\n",
       "      <td>False</td>\n",
       "      <td>5.7</td>\n",
       "      <td>173.0</td>\n",
       "    </tr>\n",
       "  </tbody>\n",
       "</table>\n",
       "<p>5 rows × 24 columns</p>\n",
       "</div>"
      ],
      "text/plain": [
       "   adult                              belongs_to_collection    budget  \\\n",
       "0  False  {'id': 10194, 'name': 'Toy Story Collection', ...  30000000   \n",
       "1  False                                                NaN  65000000   \n",
       "2  False  {'id': 119050, 'name': 'Grumpy Old Men Collect...         0   \n",
       "3  False                                                NaN  16000000   \n",
       "4  False  {'id': 96871, 'name': 'Father of the Bride Col...         0   \n",
       "\n",
       "                                              genres  \\\n",
       "0  [{'id': 16, 'name': 'Animation'}, {'id': 35, '...   \n",
       "1  [{'id': 12, 'name': 'Adventure'}, {'id': 14, '...   \n",
       "2  [{'id': 10749, 'name': 'Romance'}, {'id': 35, ...   \n",
       "3  [{'id': 35, 'name': 'Comedy'}, {'id': 18, 'nam...   \n",
       "4                     [{'id': 35, 'name': 'Comedy'}]   \n",
       "\n",
       "                               homepage     id    imdb_id original_language  \\\n",
       "0  http://toystory.disney.com/toy-story    862  tt0114709                en   \n",
       "1                                   NaN   8844  tt0113497                en   \n",
       "2                                   NaN  15602  tt0113228                en   \n",
       "3                                   NaN  31357  tt0114885                en   \n",
       "4                                   NaN  11862  tt0113041                en   \n",
       "\n",
       "                original_title  \\\n",
       "0                    Toy Story   \n",
       "1                      Jumanji   \n",
       "2             Grumpier Old Men   \n",
       "3            Waiting to Exhale   \n",
       "4  Father of the Bride Part II   \n",
       "\n",
       "                                            overview  ... release_date  \\\n",
       "0  Led by Woody, Andy's toys live happily in his ...  ...   1995-10-30   \n",
       "1  When siblings Judy and Peter discover an encha...  ...   1995-12-15   \n",
       "2  A family wedding reignites the ancient feud be...  ...   1995-12-22   \n",
       "3  Cheated on, mistreated and stepped on, the wom...  ...   1995-12-22   \n",
       "4  Just when George Banks has recovered from his ...  ...   1995-02-10   \n",
       "\n",
       "       revenue runtime                                   spoken_languages  \\\n",
       "0  373554033.0    81.0           [{'iso_639_1': 'en', 'name': 'English'}]   \n",
       "1  262797249.0   104.0  [{'iso_639_1': 'en', 'name': 'English'}, {'iso...   \n",
       "2          0.0   101.0           [{'iso_639_1': 'en', 'name': 'English'}]   \n",
       "3   81452156.0   127.0           [{'iso_639_1': 'en', 'name': 'English'}]   \n",
       "4   76578911.0   106.0           [{'iso_639_1': 'en', 'name': 'English'}]   \n",
       "\n",
       "     status                                            tagline  \\\n",
       "0  Released                                                NaN   \n",
       "1  Released          Roll the dice and unleash the excitement!   \n",
       "2  Released  Still Yelling. Still Fighting. Still Ready for...   \n",
       "3  Released  Friends are the people who let you be yourself...   \n",
       "4  Released  Just When His World Is Back To Normal... He's ...   \n",
       "\n",
       "                         title  video vote_average vote_count  \n",
       "0                    Toy Story  False          7.7     5415.0  \n",
       "1                      Jumanji  False          6.9     2413.0  \n",
       "2             Grumpier Old Men  False          6.5       92.0  \n",
       "3            Waiting to Exhale  False          6.1       34.0  \n",
       "4  Father of the Bride Part II  False          5.7      173.0  \n",
       "\n",
       "[5 rows x 24 columns]"
      ]
     },
     "execution_count": 3,
     "metadata": {},
     "output_type": "execute_result"
    }
   ],
   "source": [
    "movies.head()"
   ]
  },
  {
   "cell_type": "markdown",
   "metadata": {},
   "source": [
    "### Nettoyage de la base de données et réduction de la matrice aux caractéristiques interéssantes\n",
    "\n",
    "Suppression des id incorrects, des valeurs abérrantes, des lignes avec NaN, et modification des valeurs pour les rendre plus faciles à traiter.\n",
    "\n",
    "On sélectionne les attributs de films qui semblent pertinents pour différencier les films sur leur contenu.\n",
    "Ces choix sont arbitraires et on pourra être amenés à réfléchir dessus et à les modifier."
   ]
  },
  {
   "cell_type": "code",
   "execution_count": 4,
   "metadata": {},
   "outputs": [],
   "source": [
    "def filter_correct_id(word): # MEILLEURE VERSION ICI\n",
    "    if not isinstance(word, str) or re.fullmatch(r'[0-9]+', word):\n",
    "        return word\n",
    "    return \"wrong_id\""
   ]
  },
  {
   "cell_type": "markdown",
   "metadata": {},
   "source": [
    "On supprime les films dont l'id n'est pas un int, puis on change le type de l'attribut id : il passe de str à int64."
   ]
  },
  {
   "cell_type": "code",
   "execution_count": 5,
   "metadata": {},
   "outputs": [],
   "source": [
    "movies = movies.drop_duplicates('id')\n",
    "keywords = keywords.drop_duplicates('id')\n",
    "credits = credits.drop_duplicates('movie_id')\n",
    "ratings = ratings.drop_duplicates('movieId') #Les notes ne nous intéressent pas ici mais on veut connaitre les films notés\n",
    "#movies = movies[~movies.id.duplicated()]\n",
    "#keywords = keywords[~keywords.id.duplicated()]\n",
    "movies.id = movies.id.apply(filter_correct_id)\n",
    "movies = movies[movies.id != \"wrong_id\"]\n",
    "movies.id = movies.id.astype('int64')"
   ]
  },
  {
   "cell_type": "markdown",
   "metadata": {},
   "source": [
    "Nous ne voulons garder que les films ayant reçu une note. Cela est une manière de ne garder qu'un nombre limité de films (il est très compliqué pour nous d'effectuer des calculs pour 45 000 films). De plus le clustering est intéressant pour renforcer la recommendation \"user-based\". On ne garde donc que les films ayant été notés par les utilisateurs. Ensuite on rajoute l'attribut keywords aux films."
   ]
  },
  {
   "cell_type": "code",
   "execution_count": 6,
   "metadata": {},
   "outputs": [],
   "source": [
    "movies = movies.rename(columns={'id' : 'tmdbId'})\n",
    "keywords = keywords.rename(columns={'id' : 'tmdbId'})\n",
    "credits = credits.rename(columns={'movie_id' : 'tmdbId'})\n",
    "#movies = movies.merge(ratings, how='inner')\n",
    "#movies = movies.join(link.set_index('movieId'), on='movieId', how='inner')"
   ]
  },
  {
   "cell_type": "code",
   "execution_count": 7,
   "metadata": {},
   "outputs": [
    {
     "name": "stdout",
     "output_type": "stream",
     "text": [
      "45433\n",
      "9066\n",
      "9125\n",
      "4803\n",
      "45432\n"
     ]
    }
   ],
   "source": [
    "print(len(movies))\n",
    "print(len(ratings))\n",
    "print(len(link))\n",
    "print(len(credits))\n",
    "print(len(keywords))"
   ]
  },
  {
   "cell_type": "markdown",
   "metadata": {},
   "source": [
    "Jointure entre movies et link (pour faire le lien entre tmdbId dans movies et movieId dans ratings)."
   ]
  },
  {
   "cell_type": "code",
   "execution_count": 8,
   "metadata": {},
   "outputs": [],
   "source": [
    "movies = movies.join(link.set_index('tmdbId'), on='tmdbId', how='inner')"
   ]
  },
  {
   "cell_type": "code",
   "execution_count": 9,
   "metadata": {},
   "outputs": [
    {
     "data": {
      "text/plain": [
       "9082"
      ]
     },
     "execution_count": 9,
     "metadata": {},
     "output_type": "execute_result"
    }
   ],
   "source": [
    "len(movies)"
   ]
  },
  {
   "cell_type": "markdown",
   "metadata": {},
   "source": [
    "On ne garde que les films ayant reçu une note."
   ]
  },
  {
   "cell_type": "code",
   "execution_count": 10,
   "metadata": {},
   "outputs": [],
   "source": [
    "movies = movies.merge(ratings, how='inner')"
   ]
  },
  {
   "cell_type": "code",
   "execution_count": 11,
   "metadata": {},
   "outputs": [
    {
     "data": {
      "text/plain": [
       "9025"
      ]
     },
     "execution_count": 11,
     "metadata": {},
     "output_type": "execute_result"
    }
   ],
   "source": [
    "len(movies)"
   ]
  },
  {
   "cell_type": "code",
   "execution_count": 12,
   "metadata": {},
   "outputs": [],
   "source": [
    "credits = credits [['tmdbId','crew']]"
   ]
  },
  {
   "cell_type": "markdown",
   "metadata": {},
   "source": [
    "Jointure avec credits pour avoir aussi le crew"
   ]
  },
  {
   "cell_type": "code",
   "execution_count": 13,
   "metadata": {},
   "outputs": [],
   "source": [
    "movies = movies.join(credits.set_index('tmdbId'), on='tmdbId', how='inner')"
   ]
  },
  {
   "cell_type": "code",
   "execution_count": 14,
   "metadata": {},
   "outputs": [
    {
     "data": {
      "text/plain": [
       "3394"
      ]
     },
     "execution_count": 14,
     "metadata": {},
     "output_type": "execute_result"
    }
   ],
   "source": [
    "len(movies)"
   ]
  },
  {
   "cell_type": "markdown",
   "metadata": {},
   "source": [
    "Et enfin jointure avec keywords"
   ]
  },
  {
   "cell_type": "code",
   "execution_count": 15,
   "metadata": {},
   "outputs": [],
   "source": [
    "movies = movies.join(keywords.set_index('tmdbId'), on='tmdbId', how='inner')"
   ]
  },
  {
   "cell_type": "code",
   "execution_count": 16,
   "metadata": {},
   "outputs": [
    {
     "data": {
      "text/plain": [
       "3394"
      ]
     },
     "execution_count": 16,
     "metadata": {},
     "output_type": "execute_result"
    }
   ],
   "source": [
    "len(movies)"
   ]
  },
  {
   "cell_type": "markdown",
   "metadata": {},
   "source": [
    "Les clusters de films seront basés sur certains attributs. On ne garde que ceux qui nous intéressent pour comparer les films, à savoir le genre, les mots-clés, la date de sortie, les pays producteurs, la langue originale et la durée du film."
   ]
  },
  {
   "cell_type": "code",
   "execution_count": 17,
   "metadata": {},
   "outputs": [
    {
     "data": {
      "text/plain": [
       "Index(['adult', 'belongs_to_collection', 'budget', 'genres', 'homepage',\n",
       "       'tmdbId', 'imdb_id', 'original_language', 'original_title', 'overview',\n",
       "       'popularity', 'poster_path', 'production_companies',\n",
       "       'production_countries', 'release_date', 'revenue', 'runtime',\n",
       "       'spoken_languages', 'status', 'tagline', 'title', 'video',\n",
       "       'vote_average', 'vote_count', 'movieId', 'imdbId', 'userId', 'rating',\n",
       "       'timestamp', 'crew', 'keywords'],\n",
       "      dtype='object')"
      ]
     },
     "execution_count": 17,
     "metadata": {},
     "output_type": "execute_result"
    }
   ],
   "source": [
    "movies.columns"
   ]
  },
  {
   "cell_type": "code",
   "execution_count": 18,
   "metadata": {},
   "outputs": [
    {
     "data": {
      "text/html": [
       "<div>\n",
       "<style scoped>\n",
       "    .dataframe tbody tr th:only-of-type {\n",
       "        vertical-align: middle;\n",
       "    }\n",
       "\n",
       "    .dataframe tbody tr th {\n",
       "        vertical-align: top;\n",
       "    }\n",
       "\n",
       "    .dataframe thead th {\n",
       "        text-align: right;\n",
       "    }\n",
       "</style>\n",
       "<table border=\"1\" class=\"dataframe\">\n",
       "  <thead>\n",
       "    <tr style=\"text-align: right;\">\n",
       "      <th></th>\n",
       "      <th>title</th>\n",
       "      <th>movieId</th>\n",
       "      <th>genres</th>\n",
       "      <th>keywords</th>\n",
       "      <th>crew</th>\n",
       "      <th>release_date</th>\n",
       "      <th>production_countries</th>\n",
       "      <th>original_language</th>\n",
       "      <th>runtime</th>\n",
       "    </tr>\n",
       "  </thead>\n",
       "  <tbody>\n",
       "    <tr>\n",
       "      <td>0</td>\n",
       "      <td>Toy Story</td>\n",
       "      <td>1</td>\n",
       "      <td>[{'id': 16, 'name': 'Animation'}, {'id': 35, '...</td>\n",
       "      <td>[{'id': 931, 'name': 'jealousy'}, {'id': 4290,...</td>\n",
       "      <td>[{\"credit_id\": \"52fe4284c3a36847f8024f55\", \"de...</td>\n",
       "      <td>1995-10-30</td>\n",
       "      <td>[{'iso_3166_1': 'US', 'name': 'United States o...</td>\n",
       "      <td>en</td>\n",
       "      <td>81.0</td>\n",
       "    </tr>\n",
       "    <tr>\n",
       "      <td>9</td>\n",
       "      <td>GoldenEye</td>\n",
       "      <td>10</td>\n",
       "      <td>[{'id': 12, 'name': 'Adventure'}, {'id': 28, '...</td>\n",
       "      <td>[{'id': 701, 'name': 'cuba'}, {'id': 769, 'nam...</td>\n",
       "      <td>[{\"credit_id\": \"52fe426ec3a36847f801e16f\", \"de...</td>\n",
       "      <td>1995-11-16</td>\n",
       "      <td>[{'iso_3166_1': 'GB', 'name': 'United Kingdom'...</td>\n",
       "      <td>en</td>\n",
       "      <td>130.0</td>\n",
       "    </tr>\n",
       "    <tr>\n",
       "      <td>10</td>\n",
       "      <td>The American President</td>\n",
       "      <td>11</td>\n",
       "      <td>[{'id': 35, 'name': 'Comedy'}, {'id': 18, 'nam...</td>\n",
       "      <td>[{'id': 833, 'name': 'white house'}, {'id': 84...</td>\n",
       "      <td>[{\"credit_id\": \"52fe44dac3a36847f80adfa3\", \"de...</td>\n",
       "      <td>1995-11-17</td>\n",
       "      <td>[{'iso_3166_1': 'US', 'name': 'United States o...</td>\n",
       "      <td>en</td>\n",
       "      <td>106.0</td>\n",
       "    </tr>\n",
       "    <tr>\n",
       "      <td>13</td>\n",
       "      <td>Nixon</td>\n",
       "      <td>14</td>\n",
       "      <td>[{'id': 36, 'name': 'History'}, {'id': 18, 'na...</td>\n",
       "      <td>[{'id': 840, 'name': 'usa president'}, {'id': ...</td>\n",
       "      <td>[{\"credit_id\": \"52fe43c59251416c7501d705\", \"de...</td>\n",
       "      <td>1995-12-22</td>\n",
       "      <td>[{'iso_3166_1': 'US', 'name': 'United States o...</td>\n",
       "      <td>en</td>\n",
       "      <td>192.0</td>\n",
       "    </tr>\n",
       "    <tr>\n",
       "      <td>14</td>\n",
       "      <td>Cutthroat Island</td>\n",
       "      <td>15</td>\n",
       "      <td>[{'id': 28, 'name': 'Action'}, {'id': 12, 'nam...</td>\n",
       "      <td>[{'id': 911, 'name': 'exotic island'}, {'id': ...</td>\n",
       "      <td>[{\"credit_id\": \"52fe42f4c3a36847f802f69f\", \"de...</td>\n",
       "      <td>1995-12-22</td>\n",
       "      <td>[{'iso_3166_1': 'FR', 'name': 'France'}, {'iso...</td>\n",
       "      <td>en</td>\n",
       "      <td>119.0</td>\n",
       "    </tr>\n",
       "  </tbody>\n",
       "</table>\n",
       "</div>"
      ],
      "text/plain": [
       "                     title  movieId  \\\n",
       "0                Toy Story        1   \n",
       "9                GoldenEye       10   \n",
       "10  The American President       11   \n",
       "13                   Nixon       14   \n",
       "14        Cutthroat Island       15   \n",
       "\n",
       "                                               genres  \\\n",
       "0   [{'id': 16, 'name': 'Animation'}, {'id': 35, '...   \n",
       "9   [{'id': 12, 'name': 'Adventure'}, {'id': 28, '...   \n",
       "10  [{'id': 35, 'name': 'Comedy'}, {'id': 18, 'nam...   \n",
       "13  [{'id': 36, 'name': 'History'}, {'id': 18, 'na...   \n",
       "14  [{'id': 28, 'name': 'Action'}, {'id': 12, 'nam...   \n",
       "\n",
       "                                             keywords  \\\n",
       "0   [{'id': 931, 'name': 'jealousy'}, {'id': 4290,...   \n",
       "9   [{'id': 701, 'name': 'cuba'}, {'id': 769, 'nam...   \n",
       "10  [{'id': 833, 'name': 'white house'}, {'id': 84...   \n",
       "13  [{'id': 840, 'name': 'usa president'}, {'id': ...   \n",
       "14  [{'id': 911, 'name': 'exotic island'}, {'id': ...   \n",
       "\n",
       "                                                 crew release_date  \\\n",
       "0   [{\"credit_id\": \"52fe4284c3a36847f8024f55\", \"de...   1995-10-30   \n",
       "9   [{\"credit_id\": \"52fe426ec3a36847f801e16f\", \"de...   1995-11-16   \n",
       "10  [{\"credit_id\": \"52fe44dac3a36847f80adfa3\", \"de...   1995-11-17   \n",
       "13  [{\"credit_id\": \"52fe43c59251416c7501d705\", \"de...   1995-12-22   \n",
       "14  [{\"credit_id\": \"52fe42f4c3a36847f802f69f\", \"de...   1995-12-22   \n",
       "\n",
       "                                 production_countries original_language  \\\n",
       "0   [{'iso_3166_1': 'US', 'name': 'United States o...                en   \n",
       "9   [{'iso_3166_1': 'GB', 'name': 'United Kingdom'...                en   \n",
       "10  [{'iso_3166_1': 'US', 'name': 'United States o...                en   \n",
       "13  [{'iso_3166_1': 'US', 'name': 'United States o...                en   \n",
       "14  [{'iso_3166_1': 'FR', 'name': 'France'}, {'iso...                en   \n",
       "\n",
       "    runtime  \n",
       "0      81.0  \n",
       "9     130.0  \n",
       "10    106.0  \n",
       "13    192.0  \n",
       "14    119.0  "
      ]
     },
     "execution_count": 18,
     "metadata": {},
     "output_type": "execute_result"
    }
   ],
   "source": [
    "title_id = movies[['tmdbId','movieId','title']]\n",
    "cluster_features = movies[['title','movieId', 'genres', 'keywords','crew', 'release_date', 'production_countries', 'original_language', 'runtime']]\n",
    "cluster_features = cluster_features.dropna()\n",
    "cluster_features.head()"
   ]
  },
  {
   "cell_type": "markdown",
   "metadata": {},
   "source": [
    "Dans une optique de simplification, on ne va considérer que les films \"normaux\" pour nos clusters. On donc va enlever les outsiders, à savoir les films d'une durée trop grande ou trop petite et ceux pour lesquels ces champs n'ont pas été renseignés."
   ]
  },
  {
   "cell_type": "code",
   "execution_count": 20,
   "metadata": {},
   "outputs": [
    {
     "data": {
      "text/plain": [
       "[<matplotlib.lines.Line2D at 0x218dd66aec8>]"
      ]
     },
     "execution_count": 20,
     "metadata": {},
     "output_type": "execute_result"
    },
    {
     "data": {
      "image/png": "[encoded data removed]",
      "text/plain": [
       "<Figure size 432x288 with 1 Axes>"
      ]
     },
     "metadata": {
      "needs_background": "light"
     },
     "output_type": "display_data"
    }
   ],
   "source": [
    "plt.plot(movies.runtime)"
   ]
  },
  {
   "cell_type": "markdown",
   "metadata": {},
   "source": [
    "On choisit de ne retenir que les films d'une durée comprise entre 40 minutes et 4 heures."
   ]
  },
  {
   "cell_type": "code",
   "execution_count": 21,
   "metadata": {},
   "outputs": [],
   "source": [
    "cluster_features = cluster_features[cluster_features.runtime >= 40]\n",
    "cluster_features = cluster_features[cluster_features.runtime <= 240]"
   ]
  },
  {
   "cell_type": "markdown",
   "metadata": {},
   "source": [
    "On regarde la proportion de films pour lesquels certains champs n'ont pas été renseignés."
   ]
  },
  {
   "cell_type": "code",
   "execution_count": 22,
   "metadata": {},
   "outputs": [
    {
     "name": "stdout",
     "output_type": "stream",
     "text": [
      "Nombre de films retenus dans cluster_features :  3390\n",
      "Parmi ces films :\n",
      "1 n'ont pas de genres\n",
      "110 n'ont pas de keywords\n",
      "24 n'ont pas de production_countries\n",
      "0 n'ont pas de crew\n"
     ]
    }
   ],
   "source": [
    "print(\"Nombre de films retenus dans cluster_features : \", len(cluster_features))\n",
    "print(\"Parmi ces films :\")\n",
    "print(len(cluster_features[cluster_features.genres == \"[]\"]), \"n'ont pas de genres\")\n",
    "print(len(cluster_features[cluster_features.keywords == \"[]\"]), \"n'ont pas de keywords\")\n",
    "print(len(cluster_features[cluster_features.production_countries == \"[]\"]), \"n'ont pas de production_countries\")\n",
    "print(len(cluster_features[cluster_features.crew == \"[]\"]), \"n'ont pas de crew\")"
   ]
  },
  {
   "cell_type": "markdown",
   "metadata": {},
   "source": [
    "Il s'agit d'une petite proportion, on peut donc retirer ces films problématiques."
   ]
  },
  {
   "cell_type": "code",
   "execution_count": 23,
   "metadata": {},
   "outputs": [
    {
     "name": "stdout",
     "output_type": "stream",
     "text": [
      "Nombre de films dans cluster_features :  3265\n"
     ]
    }
   ],
   "source": [
    "cluster_features = cluster_features[cluster_features.genres != \"[]\"]\n",
    "cluster_features = cluster_features[cluster_features.keywords != \"[]\"]\n",
    "cluster_features = cluster_features[cluster_features.production_countries != \"[]\"]\n",
    "print(\"Nombre de films dans cluster_features : \", len(cluster_features))"
   ]
  },
  {
   "cell_type": "markdown",
   "metadata": {},
   "source": [
    "On peut maintenant se concentrer sur le traitement des données de chacune des colonnes. Il faut les simplifier au maximum pour rendre possible la comparaison de films basée sur ces attributs."
   ]
  },
  {
   "cell_type": "code",
   "execution_count": 24,
   "metadata": {},
   "outputs": [],
   "source": [
    "def vectorize_genres(genres):\n",
    "    \n",
    "    if isinstance(genres, str):\n",
    "        pattern = re.compile(r\"'id': [0-9]*\")\n",
    "        return np.array([int(w[6:]) for w in pattern.findall(genres)])\n",
    "    \n",
    "    return genres\n",
    "\n",
    "cluster_features.genres = cluster_features.genres.apply(vectorize_genres)"
   ]
  },
  {
   "cell_type": "code",
   "execution_count": 25,
   "metadata": {},
   "outputs": [],
   "source": [
    "def vectorize_keywords(keywords):\n",
    "    \n",
    "    if isinstance(keywords, str):\n",
    "        pattern = re.compile(r\"'id': [0-9]*\")\n",
    "        return np.array([int(w[6:]) for w in pattern.findall(keywords)])\n",
    "    \n",
    "    return keywords\n",
    "\n",
    "cluster_features.keywords = cluster_features.keywords.apply(vectorize_keywords)"
   ]
  },
  {
   "cell_type": "code",
   "execution_count": 26,
   "metadata": {},
   "outputs": [],
   "source": [
    "def find_director(crew):\n",
    "    \n",
    "    if isinstance(crew, str):\n",
    "        start = crew.find('\\\"Director\\\"')+21\n",
    "        new = crew[start:]\n",
    "        end = new.find(\"\\\"\")\n",
    "        director = new[:end]\n",
    "        return director\n",
    "    \n",
    "    return crew\n",
    "\n",
    "cluster_features = cluster_features.rename(columns={'crew' : 'director'})\n",
    "cluster_features.director = cluster_features.director.apply(find_director)"
   ]
  },
  {
   "cell_type": "code",
   "execution_count": 27,
   "metadata": {},
   "outputs": [],
   "source": [
    "def simplify_date(date):\n",
    "    \n",
    "    if isinstance(date, str):\n",
    "        return int(date[:4])\n",
    "    \n",
    "    return date\n",
    "\n",
    "cluster_features.release_date = cluster_features.release_date.apply(simplify_date)"
   ]
  },
  {
   "cell_type": "code",
   "execution_count": 28,
   "metadata": {},
   "outputs": [],
   "source": [
    "def simplify_countries(countries):\n",
    "    \n",
    "    if isinstance(countries, str):\n",
    "        pattern = re.compile(r\"'iso_3166_1': ...\")\n",
    "        return [w[15:] for w in pattern.findall(countries)]\n",
    "    \n",
    "    return genres\n",
    "\n",
    "cluster_features.production_countries = cluster_features.production_countries.apply(simplify_countries)"
   ]
  },
  {
   "cell_type": "code",
   "execution_count": 29,
   "metadata": {},
   "outputs": [
    {
     "data": {
      "text/html": [
       "<div>\n",
       "<style scoped>\n",
       "    .dataframe tbody tr th:only-of-type {\n",
       "        vertical-align: middle;\n",
       "    }\n",
       "\n",
       "    .dataframe tbody tr th {\n",
       "        vertical-align: top;\n",
       "    }\n",
       "\n",
       "    .dataframe thead th {\n",
       "        text-align: right;\n",
       "    }\n",
       "</style>\n",
       "<table border=\"1\" class=\"dataframe\">\n",
       "  <thead>\n",
       "    <tr style=\"text-align: right;\">\n",
       "      <th></th>\n",
       "      <th>title</th>\n",
       "      <th>movieId</th>\n",
       "      <th>genres</th>\n",
       "      <th>keywords</th>\n",
       "      <th>director</th>\n",
       "      <th>release_date</th>\n",
       "      <th>production_countries</th>\n",
       "      <th>original_language</th>\n",
       "      <th>runtime</th>\n",
       "    </tr>\n",
       "  </thead>\n",
       "  <tbody>\n",
       "    <tr>\n",
       "      <td>0</td>\n",
       "      <td>Toy Story</td>\n",
       "      <td>1</td>\n",
       "      <td>[16, 35, 10751]</td>\n",
       "      <td>[931, 4290, 5202, 6054, 9713, 9823, 165503, 17...</td>\n",
       "      <td>John Lasseter</td>\n",
       "      <td>1995</td>\n",
       "      <td>[US]</td>\n",
       "      <td>en</td>\n",
       "      <td>81.0</td>\n",
       "    </tr>\n",
       "    <tr>\n",
       "      <td>9</td>\n",
       "      <td>GoldenEye</td>\n",
       "      <td>10</td>\n",
       "      <td>[12, 28, 53]</td>\n",
       "      <td>[701, 769, 1308, 2812, 3268, 3272, 3278, 3376,...</td>\n",
       "      <td>Martin Campbell</td>\n",
       "      <td>1995</td>\n",
       "      <td>[GB, US]</td>\n",
       "      <td>en</td>\n",
       "      <td>130.0</td>\n",
       "    </tr>\n",
       "    <tr>\n",
       "      <td>10</td>\n",
       "      <td>The American President</td>\n",
       "      <td>11</td>\n",
       "      <td>[35, 18, 10749]</td>\n",
       "      <td>[833, 840, 1605, 33476, 211505]</td>\n",
       "      <td>Rob Reiner</td>\n",
       "      <td>1995</td>\n",
       "      <td>[US]</td>\n",
       "      <td>en</td>\n",
       "      <td>106.0</td>\n",
       "    </tr>\n",
       "    <tr>\n",
       "      <td>13</td>\n",
       "      <td>Nixon</td>\n",
       "      <td>14</td>\n",
       "      <td>[36, 18]</td>\n",
       "      <td>[840, 2946, 4240, 5565, 6086, 6165]</td>\n",
       "      <td>Oliver Stone</td>\n",
       "      <td>1995</td>\n",
       "      <td>[US]</td>\n",
       "      <td>en</td>\n",
       "      <td>192.0</td>\n",
       "    </tr>\n",
       "    <tr>\n",
       "      <td>14</td>\n",
       "      <td>Cutthroat Island</td>\n",
       "      <td>15</td>\n",
       "      <td>[28, 12]</td>\n",
       "      <td>[911, 1454, 1969, 3799, 5470, 12988]</td>\n",
       "      <td>Renny Harlin</td>\n",
       "      <td>1995</td>\n",
       "      <td>[FR, DE, IT, US]</td>\n",
       "      <td>en</td>\n",
       "      <td>119.0</td>\n",
       "    </tr>\n",
       "  </tbody>\n",
       "</table>\n",
       "</div>"
      ],
      "text/plain": [
       "                     title  movieId           genres  \\\n",
       "0                Toy Story        1  [16, 35, 10751]   \n",
       "9                GoldenEye       10     [12, 28, 53]   \n",
       "10  The American President       11  [35, 18, 10749]   \n",
       "13                   Nixon       14         [36, 18]   \n",
       "14        Cutthroat Island       15         [28, 12]   \n",
       "\n",
       "                                             keywords         director  \\\n",
       "0   [931, 4290, 5202, 6054, 9713, 9823, 165503, 17...    John Lasseter   \n",
       "9   [701, 769, 1308, 2812, 3268, 3272, 3278, 3376,...  Martin Campbell   \n",
       "10                    [833, 840, 1605, 33476, 211505]       Rob Reiner   \n",
       "13                [840, 2946, 4240, 5565, 6086, 6165]     Oliver Stone   \n",
       "14               [911, 1454, 1969, 3799, 5470, 12988]     Renny Harlin   \n",
       "\n",
       "    release_date production_countries original_language  runtime  \n",
       "0           1995                 [US]                en     81.0  \n",
       "9           1995             [GB, US]                en    130.0  \n",
       "10          1995                 [US]                en    106.0  \n",
       "13          1995                 [US]                en    192.0  \n",
       "14          1995     [FR, DE, IT, US]                en    119.0  "
      ]
     },
     "execution_count": 29,
     "metadata": {},
     "output_type": "execute_result"
    }
   ],
   "source": [
    "cluster_features.head()"
   ]
  },
  {
   "cell_type": "markdown",
   "metadata": {},
   "source": [
    "### Définition d'une distance sur les films"
   ]
  },
  {
   "cell_type": "code",
   "execution_count": 30,
   "metadata": {},
   "outputs": [],
   "source": [
    "MAX_YEAR_DIFFERENCE = max(cluster_features.release_date) - min(cluster_features.release_date)\n",
    "MAX_RUNTIME_DIFFERENCE = max(cluster_features.runtime) - min(cluster_features.runtime)"
   ]
  },
  {
   "cell_type": "markdown",
   "metadata": {},
   "source": [
    "Cette fonction calcule les similarités entre 2 films. Plus les valeurs sont proches de 0, plus les films ont de points communs et plus elles sont proches de 1, plus ils sont différents (peut-être changer le nom ? instinctivement, j'aurais pensé que pour être très similaire il fallait un score élevé REPONSE : il s'agit d'une distance)\n",
    "\n",
    "discuter de la manière de les calculer ?"
   ]
  },
  {
   "cell_type": "code",
   "execution_count": 31,
   "metadata": {},
   "outputs": [],
   "source": [
    "def movie_distance(m1, m2, w_gen=3, w_key=4, w_dir=4, w_rel=2, w_pro=2, w_ori=1, w_run=1):\n",
    "    \n",
    "    sum_vect = 0\n",
    "    # SIMILARITIES IN GENRES\n",
    "    g1 = m1.genres\n",
    "    g2 = m2.genres\n",
    "    gen = np.append(g1, g2)\n",
    "    sum_vect += (w_gen * (1 - (len(gen) - len(np.unique(gen))) / min(len(g1), len(g2)))) ** 2\n",
    "        \n",
    "    # SIMILARITIES IN KEYWORDS\n",
    "    kw1 = m1.keywords\n",
    "    kw2 = m2.keywords\n",
    "    kw = np.append(kw1, kw2)\n",
    "    sum_vect += (w_key * (1 - (len(kw) - len(np.unique(kw))) / min(len(kw1), len(kw2)))) ** 2\n",
    "    \n",
    "    # SIMILARITIES FOR THE DIRECTOR\n",
    "    if m1.director != m2.director:\n",
    "        sum_vect += (w_dir * 1) ** 2  # CHANGER PEUT ETRE\n",
    "        \n",
    "    #SIMILARITIES FOR THE RELEASE DATE\n",
    "    sum_vect += (w_rel * abs(m1.release_date - m2.release_date) / MAX_YEAR_DIFFERENCE) ** 2\n",
    "    \n",
    "    #SIMILARITIES IN PRODUCTION COUNTRIES\n",
    "    pc = []\n",
    "    pc1 = m1.production_countries\n",
    "    pc.extend(pc1)\n",
    "    pc2 = m2.production_countries\n",
    "    pc.extend(pc2)\n",
    "    pc_dist = 1 - (len(pc) - len(np.unique(pc))) / min(len(pc1), len(pc2))\n",
    "    if 'US' not in pc1 and 'US' not in pc2 and pc_dist > 0.5:\n",
    "        sum_vect += (w_pro * 0.5) ** 2\n",
    "    else:\n",
    "        sum_vect += (w_pro * pc_dist) ** 2\n",
    "    \n",
    "    #SIMILARITIES FOR THE LANGUAGE\n",
    "    lang1 = m1.original_language\n",
    "    lang2 = m2.original_language\n",
    "    if lang1 != lang2 :\n",
    "        if lang1 != 'en' and lang2 != 'en':\n",
    "            sum_vect += (w_ori * 0.4) ** 2\n",
    "        else:\n",
    "            sum_vect += (w_ori * 1) ** 2\n",
    "    \n",
    "    #SIMILARITIES FOR THE RUNTIME\n",
    "    sum_vect += (w_run * abs(m1.runtime - m2.runtime) / MAX_RUNTIME_DIFFERENCE) ** 2\n",
    "    \n",
    "    return np.sqrt(sum_vect)"
   ]
  },
  {
   "cell_type": "markdown",
   "metadata": {},
   "source": [
    "La fonction compute_dist_matrix calcule la distance séparant chaque paire de films du DataFrame passé en argument. Cependant elle ne renvoit pas une matrice, mais un pd Series avec un double index (l'id de 2 films)."
   ]
  },
  {
   "cell_type": "code",
   "execution_count": 32,
   "metadata": {},
   "outputs": [],
   "source": [
    "def compute_dist_matrix(clu_fea):\n",
    "    \n",
    "    movies_id = clu_fea.movieId.apply(lambda x: str(x))\n",
    "    dist_mat = pd.DataFrame(np.nan * len(clu_fea), index=movies_id, columns=movies_id)\n",
    "    for i in range(len(clu_fea)):\n",
    "        for j in range(i, len(clu_fea)):\n",
    "            if i == j:\n",
    "                dist_mat.iat[i, j] = 1000\n",
    "            else:\n",
    "                dist_mat.iat[i, j] = dist_mat.iat[j, i] = movie_distance(clu_fea.iloc[i], clu_fea.iloc[j]) # ICI\n",
    "    \n",
    "    return dist_mat"
   ]
  },
  {
   "cell_type": "markdown",
   "metadata": {},
   "source": [
    "On s'intéresse ici au Agglomerative Hierarchical Clustering. On n'a pas besoin de préciser le nombre de clusters attendus, à la place on obtient un dendrogramme."
   ]
  },
  {
   "cell_type": "code",
   "execution_count": 33,
   "metadata": {},
   "outputs": [],
   "source": [
    "class dendrogram:\n",
    "    def __init__(self, leaf=None):\n",
    "        self.leaf = leaf\n",
    "        self.leaf_nb = 1\n",
    "        self.father = None\n",
    "        self.left = None\n",
    "        self.right = None\n",
    "    \n",
    "    def set_leaf_nb(self):\n",
    "        total_leaf_nb = 0\n",
    "        if self.left is not None:\n",
    "            total_leaf_nb += self.left.leaf_nb\n",
    "        if self.right is not None:\n",
    "            total_leaf_nb += self.right.leaf_nb\n",
    "        self.leaf_nb = max(1, total_leaf_nb)\n",
    "    \n",
    "    def get_id_list(self):\n",
    "        id_list = []\n",
    "        def prefix(node):\n",
    "            if node.leaf is not None:\n",
    "                id_list.append(node.leaf)\n",
    "            else:\n",
    "                prefix(node.right)\n",
    "                prefix(node.left)\n",
    "        prefix(self)\n",
    "        \n",
    "        return id_list\n",
    "    \n",
    "    def get_root(self):\n",
    "        tmp = self\n",
    "        while tmp.father is not None: tmp = tmp.father\n",
    "            \n",
    "        return tmp\n",
    "    \n",
    "    def get_n_clusters(self, n):\n",
    "        cluster_list = []\n",
    "        outliers = []\n",
    "        error = []\n",
    "        def step(node, n):\n",
    "            if n == 1:\n",
    "                cluster_list.append(node.get_id_list())\n",
    "            elif node.left is None or node.right is None:\n",
    "                error.append(True)\n",
    "            else:\n",
    "                prop_left = node.left.leaf_nb / node.leaf_nb\n",
    "                prop_right = node.right.leaf_nb / node.leaf_nb\n",
    "                if prop_left < 0.15:\n",
    "                    outliers.extend(node.left.get_id_list())\n",
    "                    step(node.right, n)\n",
    "                elif prop_right < 0.15:\n",
    "                    outliers.extend(node.right.get_id_list())\n",
    "                    step(node.left, n)\n",
    "                else:\n",
    "                    n_left = max(1, round(n * prop_left))\n",
    "                    if n_left == n:\n",
    "                        n_left -= 1\n",
    "                    n_right = n - n_left\n",
    "                    step(node.left, n_left)\n",
    "                    step(node.right, n_right)\n",
    "        step(self, n)\n",
    "        if error:\n",
    "            print(\"n too big\")\n",
    "        else:\n",
    "            return cluster_list, outliers"
   ]
  },
  {
   "cell_type": "markdown",
   "metadata": {},
   "source": [
    "On ajoute un attributs dendrogram aux films sélectionnés. Au départ, chaque film est isolé. Ensuite on construit le dendrogramme étape par étape en connectant les films les plus proches (on les regroupe dans un même cluster)."
   ]
  },
  {
   "cell_type": "code",
   "execution_count": null,
   "metadata": {},
   "outputs": [],
   "source": []
  },
  {
   "cell_type": "code",
   "execution_count": 70,
   "metadata": {},
   "outputs": [
    {
     "data": {
      "text/plain": [
       "0            1\n",
       "9           10\n",
       "10          11\n",
       "13          14\n",
       "14          15\n",
       "         ...  \n",
       "9006    160080\n",
       "9007    160271\n",
       "9008    160438\n",
       "9010    160563\n",
       "9011    160565\n",
       "Name: movieId, Length: 3265, dtype: int64"
      ]
     },
     "execution_count": 70,
     "metadata": {},
     "output_type": "execute_result"
    }
   ],
   "source": [
    "clu_fea.movieId"
   ]
  },
  {
   "cell_type": "code",
   "execution_count": 34,
   "metadata": {},
   "outputs": [],
   "source": [
    "def clusterize(dist_mat, clu_fea):\n",
    "    \n",
    "    clu_fea[\"dendrogram\"] = clu_fea.movieId.apply(lambda x: dendrogram(leaf=x))\n",
    "    size_mat = len(clu_fea)\n",
    "    for cpt in range(1, size_mat):\n",
    "        index_str1, index_str2 = dist_mat.stack().idxmin()\n",
    "        index1, index2 = int(index_str1), int(index_str2)\n",
    "        mov1 = clu_fea[clu_fea.movieId == index1].iloc[0]\n",
    "        mov2 = clu_fea[clu_fea.movieId == index2].iloc[0]\n",
    "        tmp1 = mov1.dendrogram\n",
    "        tmp2 = mov2.dendrogram\n",
    "        while tmp1.father is not None: tmp1 = tmp1.father\n",
    "        while tmp2.father is not None: tmp2 = tmp2.father\n",
    "        tmp3 = dendrogram()\n",
    "        tmp3.left = tmp1\n",
    "        tmp3.right = tmp2\n",
    "        tmp3.set_leaf_nb()\n",
    "        tmp1.father = tmp3\n",
    "        tmp2.father = tmp3\n",
    "        new_d = np.maximum(dist_mat.loc[index_str1, :], dist_mat.loc[index_str2, :])\n",
    "        dist_mat.loc[index_str1, :] = dist_mat.loc[:, index_str1] = new_d\n",
    "        dist_mat = dist_mat.drop(index_str2, axis=0)\n",
    "        dist_mat = dist_mat.drop(index_str2, axis=1)\n",
    "    \n",
    "    return clu_fea.iloc[0].dendrogram.get_root()"
   ]
  },
  {
   "cell_type": "code",
   "execution_count": 35,
   "metadata": {},
   "outputs": [],
   "source": [
    "def get_cluster(clu_fea, id_list):\n",
    "    df = pd.DataFrame([])\n",
    "    for i in id_list:\n",
    "        df = df.append(clu_fea[clu_fea.movieId == i])\n",
    "    \n",
    "    return df"
   ]
  },
  {
   "cell_type": "code",
   "execution_count": 36,
   "metadata": {},
   "outputs": [],
   "source": [
    "def get_clusters_size(clu_fea, id_list_list):\n",
    "    for id_list in id_list_list:\n",
    "        print(len(id_list))"
   ]
  },
  {
   "cell_type": "code",
   "execution_count": 51,
   "metadata": {},
   "outputs": [],
   "source": [
    "clu_fea = cluster_features.copy()"
   ]
  },
  {
   "cell_type": "code",
   "execution_count": 62,
   "metadata": {},
   "outputs": [
    {
     "data": {
      "text/plain": [
       "0    68157\n",
       "1     6294\n",
       "2     7980\n",
       "3     1213\n",
       "4    63853\n",
       "5    54787\n",
       "6     7444\n",
       "7     5680\n",
       "8    55250\n",
       "9     2147\n",
       "dtype: object"
      ]
     },
     "execution_count": 62,
     "metadata": {},
     "output_type": "execute_result"
    }
   ],
   "source": [
    "pd.Series(dist_mat_test_10.index.values)"
   ]
  },
  {
   "cell_type": "code",
   "execution_count": 52,
   "metadata": {},
   "outputs": [
    {
     "data": {
      "text/html": [
       "<div>\n",
       "<style scoped>\n",
       "    .dataframe tbody tr th:only-of-type {\n",
       "        vertical-align: middle;\n",
       "    }\n",
       "\n",
       "    .dataframe tbody tr th {\n",
       "        vertical-align: top;\n",
       "    }\n",
       "\n",
       "    .dataframe thead th {\n",
       "        text-align: right;\n",
       "    }\n",
       "</style>\n",
       "<table border=\"1\" class=\"dataframe\">\n",
       "  <thead>\n",
       "    <tr style=\"text-align: right;\">\n",
       "      <th></th>\n",
       "      <th>title</th>\n",
       "      <th>movieId</th>\n",
       "      <th>genres</th>\n",
       "      <th>keywords</th>\n",
       "      <th>director</th>\n",
       "      <th>release_date</th>\n",
       "      <th>production_countries</th>\n",
       "      <th>original_language</th>\n",
       "      <th>runtime</th>\n",
       "      <th>dendrogram</th>\n",
       "    </tr>\n",
       "  </thead>\n",
       "  <tbody>\n",
       "    <tr>\n",
       "      <td>0</td>\n",
       "      <td>Toy Story</td>\n",
       "      <td>1</td>\n",
       "      <td>[16, 35, 10751]</td>\n",
       "      <td>[931, 4290, 5202, 6054, 9713, 9823, 165503, 17...</td>\n",
       "      <td>John Lasseter</td>\n",
       "      <td>1995</td>\n",
       "      <td>[US]</td>\n",
       "      <td>en</td>\n",
       "      <td>81.0</td>\n",
       "      <td>&lt;__main__.dendrogram object at 0x00000218E45FB...</td>\n",
       "    </tr>\n",
       "  </tbody>\n",
       "</table>\n",
       "</div>"
      ],
      "text/plain": [
       "       title  movieId           genres  \\\n",
       "0  Toy Story        1  [16, 35, 10751]   \n",
       "\n",
       "                                            keywords       director  \\\n",
       "0  [931, 4290, 5202, 6054, 9713, 9823, 165503, 17...  John Lasseter   \n",
       "\n",
       "   release_date production_countries original_language  runtime  \\\n",
       "0          1995                 [US]                en     81.0   \n",
       "\n",
       "                                          dendrogram  \n",
       "0  <__main__.dendrogram object at 0x00000218E45FB...  "
      ]
     },
     "execution_count": 52,
     "metadata": {},
     "output_type": "execute_result"
    }
   ],
   "source": [
    "clu_fea[\"dendrogram\"] = clu_fea.movieId.apply(lambda x: dendrogram(leaf=x))\n",
    "clu_fea.head(1)"
   ]
  },
  {
   "cell_type": "markdown",
   "metadata": {},
   "source": [
    "Test sur un échantillon de taille 10"
   ]
  },
  {
   "cell_type": "code",
   "execution_count": 37,
   "metadata": {},
   "outputs": [
    {
     "name": "stdout",
     "output_type": "stream",
     "text": [
      "Temps d'execution : 0.028943777084350586 secondes ---\n"
     ]
    }
   ],
   "source": [
    "test_10 = cluster_features.sample(10)\n",
    "start_time = time.time()\n",
    "dist_mat_test_10 = compute_dist_matrix(test_10)\n",
    "print(\"Temps d'execution : %s secondes ---\" % (time.time() - start_time))"
   ]
  },
  {
   "cell_type": "code",
   "execution_count": 38,
   "metadata": {},
   "outputs": [],
   "source": [
    "%load_ext line_profiler"
   ]
  },
  {
   "cell_type": "code",
   "execution_count": 39,
   "metadata": {},
   "outputs": [
    {
     "name": "stdout",
     "output_type": "stream",
     "text": [
      "Temps d'execution : 0.04255986213684082 secondes ---\n"
     ]
    }
   ],
   "source": [
    "start_time = time.time()\n",
    "root_test_10 = clusterize(dist_mat_test_10.copy(), test_10)\n",
    "print(\"Temps d'execution : %s secondes ---\" % (time.time() - start_time))"
   ]
  },
  {
   "cell_type": "markdown",
   "metadata": {},
   "source": [
    "Test sur un échantillon de taille 100"
   ]
  },
  {
   "cell_type": "code",
   "execution_count": 40,
   "metadata": {},
   "outputs": [],
   "source": [
    "test_100 = cluster_features.sample(100)"
   ]
  },
  {
   "cell_type": "code",
   "execution_count": 41,
   "metadata": {},
   "outputs": [
    {
     "name": "stdout",
     "output_type": "stream",
     "text": [
      "Temps d'execution : 2.558931350708008 secondes ---\n"
     ]
    }
   ],
   "source": [
    "start_time = time.time()\n",
    "dist_mat_test_100 = compute_dist_matrix(test_100)\n",
    "print(\"Temps d'execution : %s secondes ---\" % (time.time() - start_time))"
   ]
  },
  {
   "cell_type": "code",
   "execution_count": 42,
   "metadata": {},
   "outputs": [
    {
     "name": "stdout",
     "output_type": "stream",
     "text": [
      "*** KeyboardInterrupt exception caught in code being profiled."
     ]
    }
   ],
   "source": [
    "%lprun -f movie_distance compute_dist_matrix(test_100)"
   ]
  },
  {
   "cell_type": "code",
   "execution_count": 43,
   "metadata": {},
   "outputs": [
    {
     "name": "stdout",
     "output_type": "stream",
     "text": [
      "Temps d'execution : 0.4029827117919922 secondes ---\n"
     ]
    }
   ],
   "source": [
    "start_time = time.time()\n",
    "root_test_100 = clusterize(dist_mat_test_100.copy(), test_100)\n",
    "print(\"Temps d'execution : %s secondes ---\" % (time.time() - start_time))"
   ]
  },
  {
   "cell_type": "code",
   "execution_count": 44,
   "metadata": {},
   "outputs": [],
   "source": [
    "%lprun -f clusterize clusterize(dist_mat_test_100.copy(), test_100)"
   ]
  },
  {
   "cell_type": "code",
   "execution_count": 45,
   "metadata": {},
   "outputs": [
    {
     "name": "stdout",
     "output_type": "stream",
     "text": [
      "2 outliers\n",
      "28\n",
      "10\n",
      "15\n",
      "15\n",
      "30\n"
     ]
    }
   ],
   "source": [
    "clusters, outliers = root_test_100.get_n_clusters(5)\n",
    "print(len(outliers), 'outliers')\n",
    "get_clusters_size(cluster_features, clusters)"
   ]
  },
  {
   "cell_type": "code",
   "execution_count": 46,
   "metadata": {},
   "outputs": [
    {
     "data": {
      "text/html": [
       "<div>\n",
       "<style scoped>\n",
       "    .dataframe tbody tr th:only-of-type {\n",
       "        vertical-align: middle;\n",
       "    }\n",
       "\n",
       "    .dataframe tbody tr th {\n",
       "        vertical-align: top;\n",
       "    }\n",
       "\n",
       "    .dataframe thead th {\n",
       "        text-align: right;\n",
       "    }\n",
       "</style>\n",
       "<table border=\"1\" class=\"dataframe\">\n",
       "  <thead>\n",
       "    <tr style=\"text-align: right;\">\n",
       "      <th></th>\n",
       "      <th>title</th>\n",
       "      <th>movieId</th>\n",
       "      <th>genres</th>\n",
       "      <th>keywords</th>\n",
       "      <th>director</th>\n",
       "      <th>release_date</th>\n",
       "      <th>production_countries</th>\n",
       "      <th>original_language</th>\n",
       "      <th>runtime</th>\n",
       "    </tr>\n",
       "  </thead>\n",
       "  <tbody>\n",
       "    <tr>\n",
       "      <td>7106</td>\n",
       "      <td>Timecrimes</td>\n",
       "      <td>65642</td>\n",
       "      <td>[878, 53]</td>\n",
       "      <td>[1435, 2135, 2483, 3667, 9720, 9887, 9935, 101...</td>\n",
       "      <td>Nacho Vigalondo</td>\n",
       "      <td>2007</td>\n",
       "      <td>[ES]</td>\n",
       "      <td>es</td>\n",
       "      <td>92.0</td>\n",
       "    </tr>\n",
       "    <tr>\n",
       "      <td>6477</td>\n",
       "      <td>Severance</td>\n",
       "      <td>47937</td>\n",
       "      <td>[27, 35, 53]</td>\n",
       "      <td>[2429, 15127, 207937, 220085, 220086, 220087]</td>\n",
       "      <td>Christopher Smith</td>\n",
       "      <td>2006</td>\n",
       "      <td>[GB, DE, HU]</td>\n",
       "      <td>en</td>\n",
       "      <td>96.0</td>\n",
       "    </tr>\n",
       "  </tbody>\n",
       "</table>\n",
       "</div>"
      ],
      "text/plain": [
       "           title  movieId        genres  \\\n",
       "7106  Timecrimes    65642     [878, 53]   \n",
       "6477   Severance    47937  [27, 35, 53]   \n",
       "\n",
       "                                               keywords           director  \\\n",
       "7106  [1435, 2135, 2483, 3667, 9720, 9887, 9935, 101...    Nacho Vigalondo   \n",
       "6477      [2429, 15127, 207937, 220085, 220086, 220087]  Christopher Smith   \n",
       "\n",
       "      release_date production_countries original_language  runtime  \n",
       "7106          2007                 [ES]                es     92.0  \n",
       "6477          2006         [GB, DE, HU]                en     96.0  "
      ]
     },
     "execution_count": 46,
     "metadata": {},
     "output_type": "execute_result"
    }
   ],
   "source": [
    "get_cluster(cluster_features, outliers)"
   ]
  },
  {
   "cell_type": "markdown",
   "metadata": {},
   "source": [
    "Données complètes"
   ]
  },
  {
   "cell_type": "code",
   "execution_count": 47,
   "metadata": {},
   "outputs": [
    {
     "ename": "KeyboardInterrupt",
     "evalue": "",
     "output_type": "error",
     "traceback": [
      "\u001b[1;31m---------------------------------------------------------------------------\u001b[0m",
      "\u001b[1;31mKeyboardInterrupt\u001b[0m                         Traceback (most recent call last)",
      "\u001b[1;32m<ipython-input-47-ccc2b829d24a>\u001b[0m in \u001b[0;36m<module>\u001b[1;34m\u001b[0m\n\u001b[0;32m      1\u001b[0m \u001b[0mstart_time\u001b[0m \u001b[1;33m=\u001b[0m \u001b[0mtime\u001b[0m\u001b[1;33m.\u001b[0m\u001b[0mtime\u001b[0m\u001b[1;33m(\u001b[0m\u001b[1;33m)\u001b[0m\u001b[1;33m\u001b[0m\u001b[1;33m\u001b[0m\u001b[0m\n\u001b[1;32m----> 2\u001b[1;33m \u001b[0mdist_mat\u001b[0m \u001b[1;33m=\u001b[0m \u001b[0mcompute_dist_matrix\u001b[0m\u001b[1;33m(\u001b[0m\u001b[0mcluster_features\u001b[0m\u001b[1;33m)\u001b[0m \u001b[1;31m# environ 45 minutes\u001b[0m\u001b[1;33m\u001b[0m\u001b[1;33m\u001b[0m\u001b[0m\n\u001b[0m\u001b[0;32m      3\u001b[0m \u001b[0mprint\u001b[0m\u001b[1;33m(\u001b[0m\u001b[1;34m\"Temps d'execution : %s secondes ---\"\u001b[0m \u001b[1;33m%\u001b[0m \u001b[1;33m(\u001b[0m\u001b[0mtime\u001b[0m\u001b[1;33m.\u001b[0m\u001b[0mtime\u001b[0m\u001b[1;33m(\u001b[0m\u001b[1;33m)\u001b[0m \u001b[1;33m-\u001b[0m \u001b[0mstart_time\u001b[0m\u001b[1;33m)\u001b[0m\u001b[1;33m)\u001b[0m\u001b[1;33m\u001b[0m\u001b[1;33m\u001b[0m\u001b[0m\n",
      "\u001b[1;32m<ipython-input-32-1e6354cdc78c>\u001b[0m in \u001b[0;36mcompute_dist_matrix\u001b[1;34m(clu_fea)\u001b[0m\n\u001b[0;32m      8\u001b[0m                 \u001b[0mdist_mat\u001b[0m\u001b[1;33m.\u001b[0m\u001b[0miat\u001b[0m\u001b[1;33m[\u001b[0m\u001b[0mi\u001b[0m\u001b[1;33m,\u001b[0m \u001b[0mj\u001b[0m\u001b[1;33m]\u001b[0m \u001b[1;33m=\u001b[0m \u001b[1;36m1000\u001b[0m\u001b[1;33m\u001b[0m\u001b[1;33m\u001b[0m\u001b[0m\n\u001b[0;32m      9\u001b[0m             \u001b[1;32melse\u001b[0m\u001b[1;33m:\u001b[0m\u001b[1;33m\u001b[0m\u001b[1;33m\u001b[0m\u001b[0m\n\u001b[1;32m---> 10\u001b[1;33m                 \u001b[0mdist_mat\u001b[0m\u001b[1;33m.\u001b[0m\u001b[0miat\u001b[0m\u001b[1;33m[\u001b[0m\u001b[0mi\u001b[0m\u001b[1;33m,\u001b[0m \u001b[0mj\u001b[0m\u001b[1;33m]\u001b[0m \u001b[1;33m=\u001b[0m \u001b[0mdist_mat\u001b[0m\u001b[1;33m.\u001b[0m\u001b[0miat\u001b[0m\u001b[1;33m[\u001b[0m\u001b[0mj\u001b[0m\u001b[1;33m,\u001b[0m \u001b[0mi\u001b[0m\u001b[1;33m]\u001b[0m \u001b[1;33m=\u001b[0m \u001b[0mmovie_distance\u001b[0m\u001b[1;33m(\u001b[0m\u001b[0mclu_fea\u001b[0m\u001b[1;33m.\u001b[0m\u001b[0miloc\u001b[0m\u001b[1;33m[\u001b[0m\u001b[0mi\u001b[0m\u001b[1;33m]\u001b[0m\u001b[1;33m,\u001b[0m \u001b[0mclu_fea\u001b[0m\u001b[1;33m.\u001b[0m\u001b[0miloc\u001b[0m\u001b[1;33m[\u001b[0m\u001b[0mj\u001b[0m\u001b[1;33m]\u001b[0m\u001b[1;33m)\u001b[0m \u001b[1;31m# ICI\u001b[0m\u001b[1;33m\u001b[0m\u001b[1;33m\u001b[0m\u001b[0m\n\u001b[0m\u001b[0;32m     11\u001b[0m \u001b[1;33m\u001b[0m\u001b[0m\n\u001b[0;32m     12\u001b[0m     \u001b[1;32mreturn\u001b[0m \u001b[0mdist_mat\u001b[0m\u001b[1;33m\u001b[0m\u001b[1;33m\u001b[0m\u001b[0m\n",
      "\u001b[1;32m<ipython-input-31-f49712fc0032>\u001b[0m in \u001b[0;36mmovie_distance\u001b[1;34m(m1, m2, w_gen, w_key, w_dir, w_rel, w_pro, w_ori, w_run)\u001b[0m\n\u001b[0;32m     12\u001b[0m     \u001b[0mkw2\u001b[0m \u001b[1;33m=\u001b[0m \u001b[0mm2\u001b[0m\u001b[1;33m.\u001b[0m\u001b[0mkeywords\u001b[0m\u001b[1;33m\u001b[0m\u001b[1;33m\u001b[0m\u001b[0m\n\u001b[0;32m     13\u001b[0m     \u001b[0mkw\u001b[0m \u001b[1;33m=\u001b[0m \u001b[0mnp\u001b[0m\u001b[1;33m.\u001b[0m\u001b[0mappend\u001b[0m\u001b[1;33m(\u001b[0m\u001b[0mkw1\u001b[0m\u001b[1;33m,\u001b[0m \u001b[0mkw2\u001b[0m\u001b[1;33m)\u001b[0m\u001b[1;33m\u001b[0m\u001b[1;33m\u001b[0m\u001b[0m\n\u001b[1;32m---> 14\u001b[1;33m     \u001b[0msum_vect\u001b[0m \u001b[1;33m+=\u001b[0m \u001b[1;33m(\u001b[0m\u001b[0mw_key\u001b[0m \u001b[1;33m*\u001b[0m \u001b[1;33m(\u001b[0m\u001b[1;36m1\u001b[0m \u001b[1;33m-\u001b[0m \u001b[1;33m(\u001b[0m\u001b[0mlen\u001b[0m\u001b[1;33m(\u001b[0m\u001b[0mkw\u001b[0m\u001b[1;33m)\u001b[0m \u001b[1;33m-\u001b[0m \u001b[0mlen\u001b[0m\u001b[1;33m(\u001b[0m\u001b[0mnp\u001b[0m\u001b[1;33m.\u001b[0m\u001b[0munique\u001b[0m\u001b[1;33m(\u001b[0m\u001b[0mkw\u001b[0m\u001b[1;33m)\u001b[0m\u001b[1;33m)\u001b[0m\u001b[1;33m)\u001b[0m \u001b[1;33m/\u001b[0m \u001b[0mmin\u001b[0m\u001b[1;33m(\u001b[0m\u001b[0mlen\u001b[0m\u001b[1;33m(\u001b[0m\u001b[0mkw1\u001b[0m\u001b[1;33m)\u001b[0m\u001b[1;33m,\u001b[0m \u001b[0mlen\u001b[0m\u001b[1;33m(\u001b[0m\u001b[0mkw2\u001b[0m\u001b[1;33m)\u001b[0m\u001b[1;33m)\u001b[0m\u001b[1;33m)\u001b[0m\u001b[1;33m)\u001b[0m \u001b[1;33m**\u001b[0m \u001b[1;36m2\u001b[0m\u001b[1;33m\u001b[0m\u001b[1;33m\u001b[0m\u001b[0m\n\u001b[0m\u001b[0;32m     15\u001b[0m \u001b[1;33m\u001b[0m\u001b[0m\n\u001b[0;32m     16\u001b[0m     \u001b[1;31m# SIMILARITIES FOR THE DIRECTOR\u001b[0m\u001b[1;33m\u001b[0m\u001b[1;33m\u001b[0m\u001b[1;33m\u001b[0m\u001b[0m\n",
      "\u001b[1;32m~\\Anaconda3\\lib\\site-packages\\numpy\\lib\\arraysetops.py\u001b[0m in \u001b[0;36munique\u001b[1;34m(ar, return_index, return_inverse, return_counts, axis)\u001b[0m\n\u001b[0;32m    262\u001b[0m     \u001b[0mar\u001b[0m \u001b[1;33m=\u001b[0m \u001b[0mnp\u001b[0m\u001b[1;33m.\u001b[0m\u001b[0masanyarray\u001b[0m\u001b[1;33m(\u001b[0m\u001b[0mar\u001b[0m\u001b[1;33m)\u001b[0m\u001b[1;33m\u001b[0m\u001b[1;33m\u001b[0m\u001b[0m\n\u001b[0;32m    263\u001b[0m     \u001b[1;32mif\u001b[0m \u001b[0maxis\u001b[0m \u001b[1;32mis\u001b[0m \u001b[1;32mNone\u001b[0m\u001b[1;33m:\u001b[0m\u001b[1;33m\u001b[0m\u001b[1;33m\u001b[0m\u001b[0m\n\u001b[1;32m--> 264\u001b[1;33m         \u001b[0mret\u001b[0m \u001b[1;33m=\u001b[0m \u001b[0m_unique1d\u001b[0m\u001b[1;33m(\u001b[0m\u001b[0mar\u001b[0m\u001b[1;33m,\u001b[0m \u001b[0mreturn_index\u001b[0m\u001b[1;33m,\u001b[0m \u001b[0mreturn_inverse\u001b[0m\u001b[1;33m,\u001b[0m \u001b[0mreturn_counts\u001b[0m\u001b[1;33m)\u001b[0m\u001b[1;33m\u001b[0m\u001b[1;33m\u001b[0m\u001b[0m\n\u001b[0m\u001b[0;32m    265\u001b[0m         \u001b[1;32mreturn\u001b[0m \u001b[0m_unpack_tuple\u001b[0m\u001b[1;33m(\u001b[0m\u001b[0mret\u001b[0m\u001b[1;33m)\u001b[0m\u001b[1;33m\u001b[0m\u001b[1;33m\u001b[0m\u001b[0m\n\u001b[0;32m    266\u001b[0m \u001b[1;33m\u001b[0m\u001b[0m\n",
      "\u001b[1;32m~\\Anaconda3\\lib\\site-packages\\numpy\\lib\\arraysetops.py\u001b[0m in \u001b[0;36m_unique1d\u001b[1;34m(ar, return_index, return_inverse, return_counts)\u001b[0m\n\u001b[0;32m    310\u001b[0m         \u001b[0maux\u001b[0m \u001b[1;33m=\u001b[0m \u001b[0mar\u001b[0m\u001b[1;33m[\u001b[0m\u001b[0mperm\u001b[0m\u001b[1;33m]\u001b[0m\u001b[1;33m\u001b[0m\u001b[1;33m\u001b[0m\u001b[0m\n\u001b[0;32m    311\u001b[0m     \u001b[1;32melse\u001b[0m\u001b[1;33m:\u001b[0m\u001b[1;33m\u001b[0m\u001b[1;33m\u001b[0m\u001b[0m\n\u001b[1;32m--> 312\u001b[1;33m         \u001b[0mar\u001b[0m\u001b[1;33m.\u001b[0m\u001b[0msort\u001b[0m\u001b[1;33m(\u001b[0m\u001b[1;33m)\u001b[0m\u001b[1;33m\u001b[0m\u001b[1;33m\u001b[0m\u001b[0m\n\u001b[0m\u001b[0;32m    313\u001b[0m         \u001b[0maux\u001b[0m \u001b[1;33m=\u001b[0m \u001b[0mar\u001b[0m\u001b[1;33m\u001b[0m\u001b[1;33m\u001b[0m\u001b[0m\n\u001b[0;32m    314\u001b[0m     \u001b[0mmask\u001b[0m \u001b[1;33m=\u001b[0m \u001b[0mnp\u001b[0m\u001b[1;33m.\u001b[0m\u001b[0mempty\u001b[0m\u001b[1;33m(\u001b[0m\u001b[0maux\u001b[0m\u001b[1;33m.\u001b[0m\u001b[0mshape\u001b[0m\u001b[1;33m,\u001b[0m \u001b[0mdtype\u001b[0m\u001b[1;33m=\u001b[0m\u001b[0mnp\u001b[0m\u001b[1;33m.\u001b[0m\u001b[0mbool_\u001b[0m\u001b[1;33m)\u001b[0m\u001b[1;33m\u001b[0m\u001b[1;33m\u001b[0m\u001b[0m\n",
      "\u001b[1;31mKeyboardInterrupt\u001b[0m: "
     ]
    }
   ],
   "source": [
    "start_time = time.time()\n",
    "dist_mat = compute_dist_matrix(cluster_features) # environ 45 minutes\n",
    "print(\"Temps d'execution : %s secondes ---\" % (time.time() - start_time))"
   ]
  },
  {
   "cell_type": "code",
   "execution_count": null,
   "metadata": {},
   "outputs": [],
   "source": [
    "start_time = time.time()\n",
    "root = clusterize(dist_mat, cluster_features) # environ 15 minutes\n",
    "print(\"Temps d'execution : %s secondes ---\" % (time.time() - start_time))"
   ]
  },
  {
   "cell_type": "code",
   "execution_count": null,
   "metadata": {},
   "outputs": [],
   "source": [
    "clusters, outliers = root.get_n_clusters(8)\n",
    "print(len(outliers), 'outliers')\n",
    "get_clusters_size(cluster_features, clusters)"
   ]
  },
  {
   "cell_type": "code",
   "execution_count": null,
   "metadata": {},
   "outputs": [],
   "source": [
    "get_cluster(cluster_features, outliers)"
   ]
  }
 ],
 "metadata": {
  "kernelspec": {
   "display_name": "Python 3",
   "language": "python",
   "name": "python3"
  },
  "language_info": {
   "codemirror_mode": {
    "name": "ipython",
    "version": 3
   },
   "file_extension": ".py",
   "mimetype": "text/x-python",
   "name": "python",
   "nbconvert_exporter": "python",
   "pygments_lexer": "ipython3",
   "version": "3.7.4"
  }
 },
 "nbformat": 4,
 "nbformat_minor": 2
}
